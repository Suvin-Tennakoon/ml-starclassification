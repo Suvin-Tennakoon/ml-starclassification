{
 "cells": [
  {
   "cell_type": "markdown",
   "id": "d66c983a",
   "metadata": {},
   "source": [
    "### Importing & analyzing the dataset"
   ]
  },
  {
   "cell_type": "code",
   "execution_count": 1,
   "id": "999cc9d9",
   "metadata": {
    "scrolled": true
   },
   "outputs": [
    {
     "name": "stdout",
     "output_type": "stream",
     "text": [
      "Requirement already satisfied: lazypredict in c:\\users\\uthmika\\anaconda3\\lib\\site-packages (0.2.12)\n",
      "Requirement already satisfied: lightgbm in c:\\users\\uthmika\\anaconda3\\lib\\site-packages (from lazypredict) (3.3.5)\n",
      "Requirement already satisfied: xgboost in c:\\users\\uthmika\\anaconda3\\lib\\site-packages (from lazypredict) (1.7.5)\n",
      "Requirement already satisfied: click in c:\\users\\uthmika\\anaconda3\\lib\\site-packages (from lazypredict) (8.0.3)\n",
      "Requirement already satisfied: tqdm in c:\\users\\uthmika\\anaconda3\\lib\\site-packages (from lazypredict) (4.62.3)\n",
      "Requirement already satisfied: scikit-learn in c:\\users\\uthmika\\anaconda3\\lib\\site-packages (from lazypredict) (0.24.2)\n",
      "Requirement already satisfied: pandas in c:\\users\\uthmika\\anaconda3\\lib\\site-packages (from lazypredict) (1.3.4)\n",
      "Requirement already satisfied: joblib in c:\\users\\uthmika\\anaconda3\\lib\\site-packages (from lazypredict) (1.1.0)\n",
      "Requirement already satisfied: colorama in c:\\users\\uthmika\\anaconda3\\lib\\site-packages (from click->lazypredict) (0.4.4)\n",
      "Requirement already satisfied: numpy in c:\\users\\uthmika\\anaconda3\\lib\\site-packages (from lightgbm->lazypredict) (1.20.3)\n",
      "Requirement already satisfied: scipy in c:\\users\\uthmika\\anaconda3\\lib\\site-packages (from lightgbm->lazypredict) (1.7.1)\n",
      "Requirement already satisfied: wheel in c:\\users\\uthmika\\anaconda3\\lib\\site-packages (from lightgbm->lazypredict) (0.37.0)\n",
      "Requirement already satisfied: threadpoolctl>=2.0.0 in c:\\users\\uthmika\\anaconda3\\lib\\site-packages (from scikit-learn->lazypredict) (2.2.0)\n",
      "Requirement already satisfied: pytz>=2017.3 in c:\\users\\uthmika\\anaconda3\\lib\\site-packages (from pandas->lazypredict) (2021.3)\n",
      "Requirement already satisfied: python-dateutil>=2.7.3 in c:\\users\\uthmika\\anaconda3\\lib\\site-packages (from pandas->lazypredict) (2.8.2)\n",
      "Requirement already satisfied: six>=1.5 in c:\\users\\uthmika\\anaconda3\\lib\\site-packages (from python-dateutil>=2.7.3->pandas->lazypredict) (1.16.0)\n",
      "Note: you may need to restart the kernel to use updated packages.\n"
     ]
    }
   ],
   "source": [
    "pip install lazypredict"
   ]
  },
  {
   "cell_type": "markdown",
   "id": "38fd5cdc",
   "metadata": {},
   "source": []
  },
  {
   "cell_type": "code",
   "execution_count": 2,
   "id": "dc0f8e50",
   "metadata": {},
   "outputs": [],
   "source": [
    "import numpy as np # linear algebra\n",
    "import pandas as pd # data processing"
   ]
  },
  {
   "cell_type": "code",
   "execution_count": 3,
   "id": "5f21c11a",
   "metadata": {},
   "outputs": [],
   "source": [
    "import matplotlib.pyplot as plt\n",
    "import seaborn as sns\n",
    "\n",
    "from sklearn.preprocessing import StandardScaler, OneHotEncoder, LabelEncoder\n",
    "from sklearn.model_selection import train_test_split\n",
    "from lazypredict.Supervised import LazyClassifier\n",
    "from sklearn.svm import SVC\n",
    "from sklearn.metrics import f1_score, precision_score, accuracy_score, recall_score\n",
    "from sklearn.metrics import classification_report, confusion_matrix, plot_confusion_matrix"
   ]
  },
  {
   "cell_type": "code",
   "execution_count": 4,
   "id": "20eea5c4",
   "metadata": {},
   "outputs": [],
   "source": [
    "stars_data = pd.read_csv('6 class csv.csv')"
   ]
  },
  {
   "cell_type": "markdown",
   "id": "b2bfb82a",
   "metadata": {},
   "source": [
    "### Analyzing the dataset"
   ]
  },
  {
   "cell_type": "code",
   "execution_count": 5,
   "id": "b67da4f9",
   "metadata": {},
   "outputs": [
    {
     "data": {
      "text/html": [
       "<div>\n",
       "<style scoped>\n",
       "    .dataframe tbody tr th:only-of-type {\n",
       "        vertical-align: middle;\n",
       "    }\n",
       "\n",
       "    .dataframe tbody tr th {\n",
       "        vertical-align: top;\n",
       "    }\n",
       "\n",
       "    .dataframe thead th {\n",
       "        text-align: right;\n",
       "    }\n",
       "</style>\n",
       "<table border=\"1\" class=\"dataframe\">\n",
       "  <thead>\n",
       "    <tr style=\"text-align: right;\">\n",
       "      <th></th>\n",
       "      <th>Temperature (K)</th>\n",
       "      <th>Luminosity(L/Lo)</th>\n",
       "      <th>Radius(R/Ro)</th>\n",
       "      <th>Absolute magnitude(Mv)</th>\n",
       "      <th>Star type</th>\n",
       "    </tr>\n",
       "  </thead>\n",
       "  <tbody>\n",
       "    <tr>\n",
       "      <th>count</th>\n",
       "      <td>240.00</td>\n",
       "      <td>240.00</td>\n",
       "      <td>240.00</td>\n",
       "      <td>240.00</td>\n",
       "      <td>240.00</td>\n",
       "    </tr>\n",
       "    <tr>\n",
       "      <th>mean</th>\n",
       "      <td>10497.46</td>\n",
       "      <td>107188.36</td>\n",
       "      <td>237.16</td>\n",
       "      <td>4.38</td>\n",
       "      <td>2.50</td>\n",
       "    </tr>\n",
       "    <tr>\n",
       "      <th>std</th>\n",
       "      <td>9552.43</td>\n",
       "      <td>179432.24</td>\n",
       "      <td>517.16</td>\n",
       "      <td>10.53</td>\n",
       "      <td>1.71</td>\n",
       "    </tr>\n",
       "    <tr>\n",
       "      <th>min</th>\n",
       "      <td>1939.00</td>\n",
       "      <td>0.00</td>\n",
       "      <td>0.01</td>\n",
       "      <td>-11.92</td>\n",
       "      <td>0.00</td>\n",
       "    </tr>\n",
       "    <tr>\n",
       "      <th>25%</th>\n",
       "      <td>3344.25</td>\n",
       "      <td>0.00</td>\n",
       "      <td>0.10</td>\n",
       "      <td>-6.23</td>\n",
       "      <td>1.00</td>\n",
       "    </tr>\n",
       "    <tr>\n",
       "      <th>50%</th>\n",
       "      <td>5776.00</td>\n",
       "      <td>0.07</td>\n",
       "      <td>0.76</td>\n",
       "      <td>8.31</td>\n",
       "      <td>2.50</td>\n",
       "    </tr>\n",
       "    <tr>\n",
       "      <th>75%</th>\n",
       "      <td>15055.50</td>\n",
       "      <td>198050.00</td>\n",
       "      <td>42.75</td>\n",
       "      <td>13.70</td>\n",
       "      <td>4.00</td>\n",
       "    </tr>\n",
       "    <tr>\n",
       "      <th>max</th>\n",
       "      <td>40000.00</td>\n",
       "      <td>849420.00</td>\n",
       "      <td>1948.50</td>\n",
       "      <td>20.06</td>\n",
       "      <td>5.00</td>\n",
       "    </tr>\n",
       "  </tbody>\n",
       "</table>\n",
       "</div>"
      ],
      "text/plain": [
       "       Temperature (K)  Luminosity(L/Lo)  Radius(R/Ro)  \\\n",
       "count           240.00            240.00        240.00   \n",
       "mean          10497.46         107188.36        237.16   \n",
       "std            9552.43         179432.24        517.16   \n",
       "min            1939.00              0.00          0.01   \n",
       "25%            3344.25              0.00          0.10   \n",
       "50%            5776.00              0.07          0.76   \n",
       "75%           15055.50         198050.00         42.75   \n",
       "max           40000.00         849420.00       1948.50   \n",
       "\n",
       "       Absolute magnitude(Mv)  Star type  \n",
       "count                  240.00     240.00  \n",
       "mean                     4.38       2.50  \n",
       "std                     10.53       1.71  \n",
       "min                    -11.92       0.00  \n",
       "25%                     -6.23       1.00  \n",
       "50%                      8.31       2.50  \n",
       "75%                     13.70       4.00  \n",
       "max                     20.06       5.00  "
      ]
     },
     "execution_count": 5,
     "metadata": {},
     "output_type": "execute_result"
    }
   ],
   "source": [
    "stars_data.describe()"
   ]
  },
  {
   "cell_type": "code",
   "execution_count": 6,
   "id": "44f1d85a",
   "metadata": {},
   "outputs": [
    {
     "data": {
      "text/plain": [
       "Temperature (K)             int64\n",
       "Luminosity(L/Lo)          float64\n",
       "Radius(R/Ro)              float64\n",
       "Absolute magnitude(Mv)    float64\n",
       "Star type                   int64\n",
       "Star color                 object\n",
       "Spectral Class             object\n",
       "dtype: object"
      ]
     },
     "execution_count": 6,
     "metadata": {},
     "output_type": "execute_result"
    }
   ],
   "source": [
    "stars_data.dtypes"
   ]
  },
  {
   "cell_type": "code",
   "execution_count": 7,
   "id": "1c8f2da1",
   "metadata": {},
   "outputs": [
    {
     "name": "stdout",
     "output_type": "stream",
     "text": [
      "Temperature (K)           0\n",
      "Luminosity(L/Lo)          0\n",
      "Radius(R/Ro)              0\n",
      "Absolute magnitude(Mv)    0\n",
      "Star type                 0\n",
      "Star color                0\n",
      "Spectral Class            0\n",
      "dtype: int64\n",
      "Temperature (K)           0\n",
      "Luminosity(L/Lo)          0\n",
      "Radius(R/Ro)              0\n",
      "Absolute magnitude(Mv)    0\n",
      "Star type                 0\n",
      "Star color                0\n",
      "Spectral Class            0\n",
      "dtype: int64\n"
     ]
    }
   ],
   "source": [
    "null, nan = stars_data.isnull().sum() , stars_data.isna().sum()\n",
    "print(null)\n",
    "print(nan)"
   ]
  },
  {
   "cell_type": "code",
   "execution_count": 8,
   "id": "69b49477",
   "metadata": {},
   "outputs": [
    {
     "data": {
      "text/html": [
       "<style type=\"text/css\">\n",
       "#T_fb579_row0_col1 {\n",
       "  width: 10em;\n",
       "  height: 80%;\n",
       "  background: linear-gradient(90deg,#606ff2 9.8%, transparent 9.8%);\n",
       "}\n",
       "#T_fb579_row0_col2 {\n",
       "  background-color: #3e3891;\n",
       "  color: #f1f1f1;\n",
       "}\n",
       "#T_fb579_row0_col5 {\n",
       "  background-color: #67000d;\n",
       "  color: #f1f1f1;\n",
       "}\n",
       "#T_fb579_row1_col1 {\n",
       "  width: 10em;\n",
       "  height: 80%;\n",
       "  background: linear-gradient(90deg,#606ff2 100.0%, transparent 100.0%);\n",
       "}\n",
       "#T_fb579_row1_col2 {\n",
       "  background-color: #7a0403;\n",
       "  color: #f1f1f1;\n",
       "}\n",
       "#T_fb579_row1_col5, #T_fb579_row2_col5, #T_fb579_row3_col5, #T_fb579_row4_col5 {\n",
       "  background-color: #fff5f0;\n",
       "  color: #000000;\n",
       "}\n",
       "#T_fb579_row2_col1 {\n",
       "  width: 10em;\n",
       "  height: 80%;\n",
       "  background: linear-gradient(90deg,#606ff2 0.2%, transparent 0.2%);\n",
       "}\n",
       "#T_fb579_row2_col2, #T_fb579_row3_col2, #T_fb579_row4_col2 {\n",
       "  background-color: #30123b;\n",
       "  color: #f1f1f1;\n",
       "}\n",
       "#T_fb579_row3_col1 {\n",
       "  width: 10em;\n",
       "  height: 80%;\n",
       "  background: linear-gradient(90deg,#606ff2 0.0%, transparent 0.0%);\n",
       "}\n",
       "#T_fb579_row4_col1 {\n",
       "  width: 10em;\n",
       "  height: 80%;\n",
       "}\n",
       "</style>\n",
       "<table id=\"T_fb579_\">\n",
       "  <thead>\n",
       "    <tr>\n",
       "      <th class=\"blank level0\" >&nbsp;</th>\n",
       "      <th class=\"col_heading level0 col0\" >count</th>\n",
       "      <th class=\"col_heading level0 col1\" >mean</th>\n",
       "      <th class=\"col_heading level0 col2\" >std</th>\n",
       "      <th class=\"col_heading level0 col3\" >min</th>\n",
       "      <th class=\"col_heading level0 col4\" >25%</th>\n",
       "      <th class=\"col_heading level0 col5\" >50%</th>\n",
       "      <th class=\"col_heading level0 col6\" >75%</th>\n",
       "      <th class=\"col_heading level0 col7\" >max</th>\n",
       "    </tr>\n",
       "  </thead>\n",
       "  <tbody>\n",
       "    <tr>\n",
       "      <th id=\"T_fb579_level0_row0\" class=\"row_heading level0 row0\" >Temperature (K)</th>\n",
       "      <td id=\"T_fb579_row0_col0\" class=\"data row0 col0\" >240.00</td>\n",
       "      <td id=\"T_fb579_row0_col1\" class=\"data row0 col1\" >10497.46</td>\n",
       "      <td id=\"T_fb579_row0_col2\" class=\"data row0 col2\" >9552.43</td>\n",
       "      <td id=\"T_fb579_row0_col3\" class=\"data row0 col3\" >1939.00</td>\n",
       "      <td id=\"T_fb579_row0_col4\" class=\"data row0 col4\" >3344.25</td>\n",
       "      <td id=\"T_fb579_row0_col5\" class=\"data row0 col5\" >5776.00</td>\n",
       "      <td id=\"T_fb579_row0_col6\" class=\"data row0 col6\" >15055.50</td>\n",
       "      <td id=\"T_fb579_row0_col7\" class=\"data row0 col7\" >40000.00</td>\n",
       "    </tr>\n",
       "    <tr>\n",
       "      <th id=\"T_fb579_level0_row1\" class=\"row_heading level0 row1\" >Luminosity(L/Lo)</th>\n",
       "      <td id=\"T_fb579_row1_col0\" class=\"data row1 col0\" >240.00</td>\n",
       "      <td id=\"T_fb579_row1_col1\" class=\"data row1 col1\" >107188.36</td>\n",
       "      <td id=\"T_fb579_row1_col2\" class=\"data row1 col2\" >179432.24</td>\n",
       "      <td id=\"T_fb579_row1_col3\" class=\"data row1 col3\" >0.00</td>\n",
       "      <td id=\"T_fb579_row1_col4\" class=\"data row1 col4\" >0.00</td>\n",
       "      <td id=\"T_fb579_row1_col5\" class=\"data row1 col5\" >0.07</td>\n",
       "      <td id=\"T_fb579_row1_col6\" class=\"data row1 col6\" >198050.00</td>\n",
       "      <td id=\"T_fb579_row1_col7\" class=\"data row1 col7\" >849420.00</td>\n",
       "    </tr>\n",
       "    <tr>\n",
       "      <th id=\"T_fb579_level0_row2\" class=\"row_heading level0 row2\" >Radius(R/Ro)</th>\n",
       "      <td id=\"T_fb579_row2_col0\" class=\"data row2 col0\" >240.00</td>\n",
       "      <td id=\"T_fb579_row2_col1\" class=\"data row2 col1\" >237.16</td>\n",
       "      <td id=\"T_fb579_row2_col2\" class=\"data row2 col2\" >517.16</td>\n",
       "      <td id=\"T_fb579_row2_col3\" class=\"data row2 col3\" >0.01</td>\n",
       "      <td id=\"T_fb579_row2_col4\" class=\"data row2 col4\" >0.10</td>\n",
       "      <td id=\"T_fb579_row2_col5\" class=\"data row2 col5\" >0.76</td>\n",
       "      <td id=\"T_fb579_row2_col6\" class=\"data row2 col6\" >42.75</td>\n",
       "      <td id=\"T_fb579_row2_col7\" class=\"data row2 col7\" >1948.50</td>\n",
       "    </tr>\n",
       "    <tr>\n",
       "      <th id=\"T_fb579_level0_row3\" class=\"row_heading level0 row3\" >Absolute magnitude(Mv)</th>\n",
       "      <td id=\"T_fb579_row3_col0\" class=\"data row3 col0\" >240.00</td>\n",
       "      <td id=\"T_fb579_row3_col1\" class=\"data row3 col1\" >4.38</td>\n",
       "      <td id=\"T_fb579_row3_col2\" class=\"data row3 col2\" >10.53</td>\n",
       "      <td id=\"T_fb579_row3_col3\" class=\"data row3 col3\" >-11.92</td>\n",
       "      <td id=\"T_fb579_row3_col4\" class=\"data row3 col4\" >-6.23</td>\n",
       "      <td id=\"T_fb579_row3_col5\" class=\"data row3 col5\" >8.31</td>\n",
       "      <td id=\"T_fb579_row3_col6\" class=\"data row3 col6\" >13.70</td>\n",
       "      <td id=\"T_fb579_row3_col7\" class=\"data row3 col7\" >20.06</td>\n",
       "    </tr>\n",
       "    <tr>\n",
       "      <th id=\"T_fb579_level0_row4\" class=\"row_heading level0 row4\" >Star type</th>\n",
       "      <td id=\"T_fb579_row4_col0\" class=\"data row4 col0\" >240.00</td>\n",
       "      <td id=\"T_fb579_row4_col1\" class=\"data row4 col1\" >2.50</td>\n",
       "      <td id=\"T_fb579_row4_col2\" class=\"data row4 col2\" >1.71</td>\n",
       "      <td id=\"T_fb579_row4_col3\" class=\"data row4 col3\" >0.00</td>\n",
       "      <td id=\"T_fb579_row4_col4\" class=\"data row4 col4\" >1.00</td>\n",
       "      <td id=\"T_fb579_row4_col5\" class=\"data row4 col5\" >2.50</td>\n",
       "      <td id=\"T_fb579_row4_col6\" class=\"data row4 col6\" >4.00</td>\n",
       "      <td id=\"T_fb579_row4_col7\" class=\"data row4 col7\" >5.00</td>\n",
       "    </tr>\n",
       "  </tbody>\n",
       "</table>\n"
      ],
      "text/plain": [
       "<pandas.io.formats.style.Styler at 0x2121e6980a0>"
      ]
     },
     "execution_count": 8,
     "metadata": {},
     "output_type": "execute_result"
    }
   ],
   "source": [
    "stars_data.describe().T.style.bar(subset=['mean'],color='#606ff2').background_gradient(subset=['std'], cmap='turbo').background_gradient(subset=['50%'], cmap='Reds')"
   ]
  },
  {
   "cell_type": "code",
   "execution_count": 16,
   "id": "8c3002a5",
   "metadata": {},
   "outputs": [],
   "source": [
    "data = stars_data[['Temperature (K)', 'Luminosity(L/Lo)', 'Radius(R/Ro)', 'Absolute magnitude(Mv)', 'Star color', 'Spectral Class']].to_numpy()\n",
    "target = stars_data[\"Star type\"].to_numpy()"
   ]
  },
  {
   "cell_type": "code",
   "execution_count": 17,
   "id": "44003b57",
   "metadata": {},
   "outputs": [],
   "source": [
    "train_input, test_input, train_target, test_target = train_test_split(\n",
    "    data, target, test_size=0.2, random_state=42)"
   ]
  },
  {
   "cell_type": "code",
   "execution_count": 18,
   "id": "24449dfd",
   "metadata": {},
   "outputs": [],
   "source": [
    "sub_input, val_input, sub_target, val_target = train_test_split(\n",
    "    train_input, train_target, test_size=0.2, random_state=42)"
   ]
  },
  {
   "cell_type": "code",
   "execution_count": 19,
   "id": "1a97c330",
   "metadata": {},
   "outputs": [
    {
     "name": "stdout",
     "output_type": "stream",
     "text": [
      "(153, 6) (39, 6)\n"
     ]
    }
   ],
   "source": [
    "print(sub_input.shape, val_input.shape)"
   ]
  },
  {
   "cell_type": "code",
   "execution_count": 20,
   "id": "c8c31b8f",
   "metadata": {},
   "outputs": [
    {
     "data": {
      "text/plain": [
       "array(['Red', 'Blue White', 'White', 'Yellowish White', 'Blue white',\n",
       "       'Pale yellow orange', 'Blue', 'Blue-white', 'Whitish',\n",
       "       'yellow-white', 'Orange', 'White-Yellow', 'white', 'Blue ',\n",
       "       'yellowish', 'Yellowish', 'Orange-Red', 'Blue white ',\n",
       "       'Blue-White'], dtype=object)"
      ]
     },
     "execution_count": 20,
     "metadata": {},
     "output_type": "execute_result"
    }
   ],
   "source": [
    "stars_data['Star color'].unique()"
   ]
  },
  {
   "cell_type": "code",
   "execution_count": 21,
   "id": "a176bfd3",
   "metadata": {},
   "outputs": [
    {
     "data": {
      "text/plain": [
       "Red                   112\n",
       "Blue                   55\n",
       "Blue-white             26\n",
       "Blue White             10\n",
       "yellow-white            8\n",
       "White                   7\n",
       "Blue white              3\n",
       "Yellowish White         3\n",
       "white                   3\n",
       "Whitish                 2\n",
       "Orange                  2\n",
       "yellowish               2\n",
       "Pale yellow orange      1\n",
       "White-Yellow            1\n",
       "Blue                    1\n",
       "Yellowish               1\n",
       "Orange-Red              1\n",
       "Blue white              1\n",
       "Blue-White              1\n",
       "Name: Star color, dtype: int64"
      ]
     },
     "execution_count": 21,
     "metadata": {},
     "output_type": "execute_result"
    }
   ],
   "source": [
    "stars_data[\"Star color\"].value_counts()"
   ]
  },
  {
   "cell_type": "code",
   "execution_count": 22,
   "id": "dbee2533",
   "metadata": {},
   "outputs": [
    {
     "name": "stdout",
     "output_type": "stream",
     "text": [
      "Red                   112\n",
      "Blue                   56\n",
      "Blue White             41\n",
      "Yellowish White        12\n",
      "White                  10\n",
      "Yellowish               3\n",
      "Whitish                 2\n",
      "Orange                  2\n",
      "Pale yellow orange      1\n",
      "Orange-Red              1\n",
      "Name: Star color, dtype: int64\n"
     ]
    }
   ],
   "source": [
    "color_map = {\n",
    "    'Blue ': 'Blue',\n",
    "    'Blue white': 'Blue White',\n",
    "    'Blue-white': 'Blue White',\n",
    "    'Blue white ': 'Blue White',\n",
    "    'Blue-White': 'Blue White',\n",
    "    'white': 'White',\n",
    "    'yellow-white': 'Yellowish White',\n",
    "    'White-Yellow': 'Yellowish White',\n",
    "    'yellowish': 'Yellowish'\n",
    "}\n",
    "stars_data[\"Star color\"] = stars_data[\"Star color\"].replace(color_map)\n",
    "print(stars_data[\"Star color\"].value_counts())"
   ]
  },
  {
   "cell_type": "code",
   "execution_count": 23,
   "id": "c5726454",
   "metadata": {},
   "outputs": [
    {
     "data": {
      "text/html": [
       "<div>\n",
       "<style scoped>\n",
       "    .dataframe tbody tr th:only-of-type {\n",
       "        vertical-align: middle;\n",
       "    }\n",
       "\n",
       "    .dataframe tbody tr th {\n",
       "        vertical-align: top;\n",
       "    }\n",
       "\n",
       "    .dataframe thead th {\n",
       "        text-align: right;\n",
       "    }\n",
       "</style>\n",
       "<table border=\"1\" class=\"dataframe\">\n",
       "  <thead>\n",
       "    <tr style=\"text-align: right;\">\n",
       "      <th></th>\n",
       "      <th>Temperature (K)</th>\n",
       "      <th>Luminosity(L/Lo)</th>\n",
       "      <th>Radius(R/Ro)</th>\n",
       "      <th>Absolute magnitude(Mv)</th>\n",
       "      <th>Star type</th>\n",
       "      <th>Star color</th>\n",
       "      <th>Spectral Class</th>\n",
       "    </tr>\n",
       "  </thead>\n",
       "  <tbody>\n",
       "    <tr>\n",
       "      <th>0</th>\n",
       "      <td>3068</td>\n",
       "      <td>0.00</td>\n",
       "      <td>0.17</td>\n",
       "      <td>16.12</td>\n",
       "      <td>0</td>\n",
       "      <td>Red</td>\n",
       "      <td>M</td>\n",
       "    </tr>\n",
       "    <tr>\n",
       "      <th>1</th>\n",
       "      <td>3042</td>\n",
       "      <td>0.00</td>\n",
       "      <td>0.15</td>\n",
       "      <td>16.60</td>\n",
       "      <td>0</td>\n",
       "      <td>Red</td>\n",
       "      <td>M</td>\n",
       "    </tr>\n",
       "    <tr>\n",
       "      <th>2</th>\n",
       "      <td>2600</td>\n",
       "      <td>0.00</td>\n",
       "      <td>0.10</td>\n",
       "      <td>18.70</td>\n",
       "      <td>0</td>\n",
       "      <td>Red</td>\n",
       "      <td>M</td>\n",
       "    </tr>\n",
       "    <tr>\n",
       "      <th>3</th>\n",
       "      <td>2800</td>\n",
       "      <td>0.00</td>\n",
       "      <td>0.16</td>\n",
       "      <td>16.65</td>\n",
       "      <td>0</td>\n",
       "      <td>Red</td>\n",
       "      <td>M</td>\n",
       "    </tr>\n",
       "    <tr>\n",
       "      <th>4</th>\n",
       "      <td>1939</td>\n",
       "      <td>0.00</td>\n",
       "      <td>0.10</td>\n",
       "      <td>20.06</td>\n",
       "      <td>0</td>\n",
       "      <td>Red</td>\n",
       "      <td>M</td>\n",
       "    </tr>\n",
       "  </tbody>\n",
       "</table>\n",
       "</div>"
      ],
      "text/plain": [
       "   Temperature (K)  Luminosity(L/Lo)  Radius(R/Ro)  Absolute magnitude(Mv)  \\\n",
       "0             3068              0.00          0.17                   16.12   \n",
       "1             3042              0.00          0.15                   16.60   \n",
       "2             2600              0.00          0.10                   18.70   \n",
       "3             2800              0.00          0.16                   16.65   \n",
       "4             1939              0.00          0.10                   20.06   \n",
       "\n",
       "   Star type Star color Spectral Class  \n",
       "0          0        Red              M  \n",
       "1          0        Red              M  \n",
       "2          0        Red              M  \n",
       "3          0        Red              M  \n",
       "4          0        Red              M  "
      ]
     },
     "execution_count": 23,
     "metadata": {},
     "output_type": "execute_result"
    }
   ],
   "source": [
    "stars_data.head()"
   ]
  },
  {
   "cell_type": "code",
   "execution_count": 24,
   "id": "25d30a9e",
   "metadata": {},
   "outputs": [
    {
     "data": {
      "text/plain": [
       "(240, 7)"
      ]
     },
     "execution_count": 24,
     "metadata": {},
     "output_type": "execute_result"
    }
   ],
   "source": [
    "stars_data.shape"
   ]
  },
  {
   "cell_type": "code",
   "execution_count": 25,
   "id": "10ae503f",
   "metadata": {},
   "outputs": [],
   "source": [
    "preprocessed_data = stars_data"
   ]
  },
  {
   "cell_type": "code",
   "execution_count": 26,
   "id": "b9a43c00",
   "metadata": {},
   "outputs": [
    {
     "data": {
      "text/plain": [
       "Index(['Temperature (K)', 'Luminosity(L/Lo)', 'Radius(R/Ro)',\n",
       "       'Absolute magnitude(Mv)', 'Star type', 'Star color', 'Spectral Class'],\n",
       "      dtype='object')"
      ]
     },
     "execution_count": 26,
     "metadata": {},
     "output_type": "execute_result"
    }
   ],
   "source": [
    "stars_data.columns"
   ]
  },
  {
   "cell_type": "code",
   "execution_count": 27,
   "id": "d6fad807",
   "metadata": {},
   "outputs": [],
   "source": [
    "scaler = StandardScaler()\n",
    "scaler.fit(preprocessed_data[['Temperature (K)', 'Luminosity(L/Lo)', 'Radius(R/Ro)','Absolute magnitude(Mv)']])\n",
    "preprocessed_data[['Temperature (K)', 'Luminosity(L/Lo)', 'Radius(R/Ro)','Absolute magnitude(Mv)']] = scaler.transform(preprocessed_data[['Temperature (K)', 'Luminosity(L/Lo)', 'Radius(R/Ro)','Absolute magnitude(Mv)']])"
   ]
  },
  {
   "cell_type": "code",
   "execution_count": 29,
   "id": "ba44ea57",
   "metadata": {},
   "outputs": [],
   "source": [
    "ohe = OneHotEncoder(sparse=False)\n",
    "binary = ohe.fit_transform(np.array(preprocessed_data['Star color']).reshape(-1,1))"
   ]
  },
  {
   "cell_type": "code",
   "execution_count": 30,
   "id": "ff0fec2e",
   "metadata": {},
   "outputs": [],
   "source": [
    "le = LabelEncoder()\n",
    "le.fit(preprocessed_data['Spectral Class'])\n",
    "preprocessed_data['Spectral Class'] = le.transform(preprocessed_data['Spectral Class'])"
   ]
  },
  {
   "cell_type": "code",
   "execution_count": 34,
   "id": "6d1fe4f8",
   "metadata": {},
   "outputs": [],
   "source": [
    "target_2 = preprocessed_data['Spectral Class']"
   ]
  },
  {
   "cell_type": "code",
   "execution_count": 35,
   "id": "9191ee20",
   "metadata": {},
   "outputs": [],
   "source": [
    "get_values = preprocessed_data.drop(columns=['Star color','Spectral Class']).values"
   ]
  },
  {
   "cell_type": "code",
   "execution_count": 36,
   "id": "17fcceba",
   "metadata": {},
   "outputs": [
    {
     "data": {
      "text/html": [
       "<div>\n",
       "<style scoped>\n",
       "    .dataframe tbody tr th:only-of-type {\n",
       "        vertical-align: middle;\n",
       "    }\n",
       "\n",
       "    .dataframe tbody tr th {\n",
       "        vertical-align: top;\n",
       "    }\n",
       "\n",
       "    .dataframe thead th {\n",
       "        text-align: right;\n",
       "    }\n",
       "</style>\n",
       "<table border=\"1\" class=\"dataframe\">\n",
       "  <thead>\n",
       "    <tr style=\"text-align: right;\">\n",
       "      <th></th>\n",
       "      <th>0</th>\n",
       "      <th>1</th>\n",
       "      <th>2</th>\n",
       "      <th>3</th>\n",
       "      <th>4</th>\n",
       "      <th>5</th>\n",
       "      <th>6</th>\n",
       "      <th>7</th>\n",
       "      <th>8</th>\n",
       "      <th>9</th>\n",
       "      <th>10</th>\n",
       "      <th>11</th>\n",
       "      <th>12</th>\n",
       "      <th>13</th>\n",
       "      <th>14</th>\n",
       "      <th>target_2</th>\n",
       "    </tr>\n",
       "  </thead>\n",
       "  <tbody>\n",
       "    <tr>\n",
       "      <th>0</th>\n",
       "      <td>-0.78</td>\n",
       "      <td>-0.60</td>\n",
       "      <td>-0.46</td>\n",
       "      <td>1.12</td>\n",
       "      <td>0.00</td>\n",
       "      <td>0.00</td>\n",
       "      <td>0.00</td>\n",
       "      <td>0.00</td>\n",
       "      <td>0.00</td>\n",
       "      <td>0.00</td>\n",
       "      <td>1.00</td>\n",
       "      <td>0.00</td>\n",
       "      <td>0.00</td>\n",
       "      <td>0.00</td>\n",
       "      <td>0.00</td>\n",
       "      <td>5</td>\n",
       "    </tr>\n",
       "    <tr>\n",
       "      <th>1</th>\n",
       "      <td>-0.78</td>\n",
       "      <td>-0.60</td>\n",
       "      <td>-0.46</td>\n",
       "      <td>1.16</td>\n",
       "      <td>0.00</td>\n",
       "      <td>0.00</td>\n",
       "      <td>0.00</td>\n",
       "      <td>0.00</td>\n",
       "      <td>0.00</td>\n",
       "      <td>0.00</td>\n",
       "      <td>1.00</td>\n",
       "      <td>0.00</td>\n",
       "      <td>0.00</td>\n",
       "      <td>0.00</td>\n",
       "      <td>0.00</td>\n",
       "      <td>5</td>\n",
       "    </tr>\n",
       "    <tr>\n",
       "      <th>2</th>\n",
       "      <td>-0.83</td>\n",
       "      <td>-0.60</td>\n",
       "      <td>-0.46</td>\n",
       "      <td>1.36</td>\n",
       "      <td>0.00</td>\n",
       "      <td>0.00</td>\n",
       "      <td>0.00</td>\n",
       "      <td>0.00</td>\n",
       "      <td>0.00</td>\n",
       "      <td>0.00</td>\n",
       "      <td>1.00</td>\n",
       "      <td>0.00</td>\n",
       "      <td>0.00</td>\n",
       "      <td>0.00</td>\n",
       "      <td>0.00</td>\n",
       "      <td>5</td>\n",
       "    </tr>\n",
       "    <tr>\n",
       "      <th>3</th>\n",
       "      <td>-0.81</td>\n",
       "      <td>-0.60</td>\n",
       "      <td>-0.46</td>\n",
       "      <td>1.17</td>\n",
       "      <td>0.00</td>\n",
       "      <td>0.00</td>\n",
       "      <td>0.00</td>\n",
       "      <td>0.00</td>\n",
       "      <td>0.00</td>\n",
       "      <td>0.00</td>\n",
       "      <td>1.00</td>\n",
       "      <td>0.00</td>\n",
       "      <td>0.00</td>\n",
       "      <td>0.00</td>\n",
       "      <td>0.00</td>\n",
       "      <td>5</td>\n",
       "    </tr>\n",
       "    <tr>\n",
       "      <th>4</th>\n",
       "      <td>-0.90</td>\n",
       "      <td>-0.60</td>\n",
       "      <td>-0.46</td>\n",
       "      <td>1.49</td>\n",
       "      <td>0.00</td>\n",
       "      <td>0.00</td>\n",
       "      <td>0.00</td>\n",
       "      <td>0.00</td>\n",
       "      <td>0.00</td>\n",
       "      <td>0.00</td>\n",
       "      <td>1.00</td>\n",
       "      <td>0.00</td>\n",
       "      <td>0.00</td>\n",
       "      <td>0.00</td>\n",
       "      <td>0.00</td>\n",
       "      <td>5</td>\n",
       "    </tr>\n",
       "  </tbody>\n",
       "</table>\n",
       "</div>"
      ],
      "text/plain": [
       "      0     1     2    3    4    5    6    7    8    9   10   11   12   13  \\\n",
       "0 -0.78 -0.60 -0.46 1.12 0.00 0.00 0.00 0.00 0.00 0.00 1.00 0.00 0.00 0.00   \n",
       "1 -0.78 -0.60 -0.46 1.16 0.00 0.00 0.00 0.00 0.00 0.00 1.00 0.00 0.00 0.00   \n",
       "2 -0.83 -0.60 -0.46 1.36 0.00 0.00 0.00 0.00 0.00 0.00 1.00 0.00 0.00 0.00   \n",
       "3 -0.81 -0.60 -0.46 1.17 0.00 0.00 0.00 0.00 0.00 0.00 1.00 0.00 0.00 0.00   \n",
       "4 -0.90 -0.60 -0.46 1.49 0.00 0.00 0.00 0.00 0.00 0.00 1.00 0.00 0.00 0.00   \n",
       "\n",
       "    14  target_2  \n",
       "0 0.00         5  \n",
       "1 0.00         5  \n",
       "2 0.00         5  \n",
       "3 0.00         5  \n",
       "4 0.00         5  "
      ]
     },
     "execution_count": 36,
     "metadata": {},
     "output_type": "execute_result"
    }
   ],
   "source": [
    "frames = [pd.DataFrame(get_values),pd.DataFrame(binary)]\n",
    "df_pp = pd.concat(frames, axis=1)\n",
    "df_pp.columns = list(range(len(df_pp.columns)))\n",
    "df_pp['target_2'] = target\n",
    "df_pp.head()"
   ]
  },
  {
   "cell_type": "code",
   "execution_count": 37,
   "id": "87870f46",
   "metadata": {},
   "outputs": [],
   "source": [
    "X = df_pp.drop(columns='target_2')\n",
    "y = df_pp['target_2']"
   ]
  },
  {
   "cell_type": "code",
   "execution_count": 38,
   "id": "d17e278c",
   "metadata": {},
   "outputs": [],
   "source": [
    "X_train, X_test, y_train, y_test = train_test_split(X, y, test_size=0.4, random_state=42)"
   ]
  },
  {
   "cell_type": "code",
   "execution_count": 39,
   "id": "5ceeb9ef",
   "metadata": {},
   "outputs": [
    {
     "name": "stderr",
     "output_type": "stream",
     "text": [
      "100%|██████████████████████████████████████████████████████████████████████████████████| 29/29 [00:02<00:00, 10.07it/s]\n"
     ]
    },
    {
     "data": {
      "text/html": [
       "<div>\n",
       "<style scoped>\n",
       "    .dataframe tbody tr th:only-of-type {\n",
       "        vertical-align: middle;\n",
       "    }\n",
       "\n",
       "    .dataframe tbody tr th {\n",
       "        vertical-align: top;\n",
       "    }\n",
       "\n",
       "    .dataframe thead th {\n",
       "        text-align: right;\n",
       "    }\n",
       "</style>\n",
       "<table border=\"1\" class=\"dataframe\">\n",
       "  <thead>\n",
       "    <tr style=\"text-align: right;\">\n",
       "      <th></th>\n",
       "      <th>Accuracy</th>\n",
       "      <th>Balanced Accuracy</th>\n",
       "      <th>ROC AUC</th>\n",
       "      <th>F1 Score</th>\n",
       "      <th>Time Taken</th>\n",
       "    </tr>\n",
       "    <tr>\n",
       "      <th>Model</th>\n",
       "      <th></th>\n",
       "      <th></th>\n",
       "      <th></th>\n",
       "      <th></th>\n",
       "      <th></th>\n",
       "    </tr>\n",
       "  </thead>\n",
       "  <tbody>\n",
       "    <tr>\n",
       "      <th>RandomForestClassifier</th>\n",
       "      <td>0.96</td>\n",
       "      <td>0.84</td>\n",
       "      <td>None</td>\n",
       "      <td>0.95</td>\n",
       "      <td>0.34</td>\n",
       "    </tr>\n",
       "    <tr>\n",
       "      <th>ExtraTreesClassifier</th>\n",
       "      <td>0.96</td>\n",
       "      <td>0.84</td>\n",
       "      <td>None</td>\n",
       "      <td>0.95</td>\n",
       "      <td>0.26</td>\n",
       "    </tr>\n",
       "    <tr>\n",
       "      <th>BernoulliNB</th>\n",
       "      <td>0.94</td>\n",
       "      <td>0.83</td>\n",
       "      <td>None</td>\n",
       "      <td>0.93</td>\n",
       "      <td>0.07</td>\n",
       "    </tr>\n",
       "    <tr>\n",
       "      <th>LabelPropagation</th>\n",
       "      <td>0.93</td>\n",
       "      <td>0.81</td>\n",
       "      <td>None</td>\n",
       "      <td>0.92</td>\n",
       "      <td>0.04</td>\n",
       "    </tr>\n",
       "    <tr>\n",
       "      <th>LabelSpreading</th>\n",
       "      <td>0.93</td>\n",
       "      <td>0.81</td>\n",
       "      <td>None</td>\n",
       "      <td>0.92</td>\n",
       "      <td>0.04</td>\n",
       "    </tr>\n",
       "    <tr>\n",
       "      <th>ExtraTreeClassifier</th>\n",
       "      <td>0.90</td>\n",
       "      <td>0.81</td>\n",
       "      <td>None</td>\n",
       "      <td>0.89</td>\n",
       "      <td>0.02</td>\n",
       "    </tr>\n",
       "    <tr>\n",
       "      <th>PassiveAggressiveClassifier</th>\n",
       "      <td>0.92</td>\n",
       "      <td>0.80</td>\n",
       "      <td>None</td>\n",
       "      <td>0.92</td>\n",
       "      <td>0.04</td>\n",
       "    </tr>\n",
       "    <tr>\n",
       "      <th>SGDClassifier</th>\n",
       "      <td>0.92</td>\n",
       "      <td>0.78</td>\n",
       "      <td>None</td>\n",
       "      <td>0.91</td>\n",
       "      <td>0.04</td>\n",
       "    </tr>\n",
       "    <tr>\n",
       "      <th>GaussianNB</th>\n",
       "      <td>0.89</td>\n",
       "      <td>0.76</td>\n",
       "      <td>None</td>\n",
       "      <td>0.89</td>\n",
       "      <td>0.03</td>\n",
       "    </tr>\n",
       "    <tr>\n",
       "      <th>LGBMClassifier</th>\n",
       "      <td>0.93</td>\n",
       "      <td>0.75</td>\n",
       "      <td>None</td>\n",
       "      <td>0.91</td>\n",
       "      <td>0.57</td>\n",
       "    </tr>\n",
       "  </tbody>\n",
       "</table>\n",
       "</div>"
      ],
      "text/plain": [
       "                             Accuracy  Balanced Accuracy ROC AUC  F1 Score  \\\n",
       "Model                                                                        \n",
       "RandomForestClassifier           0.96               0.84    None      0.95   \n",
       "ExtraTreesClassifier             0.96               0.84    None      0.95   \n",
       "BernoulliNB                      0.94               0.83    None      0.93   \n",
       "LabelPropagation                 0.93               0.81    None      0.92   \n",
       "LabelSpreading                   0.93               0.81    None      0.92   \n",
       "ExtraTreeClassifier              0.90               0.81    None      0.89   \n",
       "PassiveAggressiveClassifier      0.92               0.80    None      0.92   \n",
       "SGDClassifier                    0.92               0.78    None      0.91   \n",
       "GaussianNB                       0.89               0.76    None      0.89   \n",
       "LGBMClassifier                   0.93               0.75    None      0.91   \n",
       "\n",
       "                             Time Taken  \n",
       "Model                                    \n",
       "RandomForestClassifier             0.34  \n",
       "ExtraTreesClassifier               0.26  \n",
       "BernoulliNB                        0.07  \n",
       "LabelPropagation                   0.04  \n",
       "LabelSpreading                     0.04  \n",
       "ExtraTreeClassifier                0.02  \n",
       "PassiveAggressiveClassifier        0.04  \n",
       "SGDClassifier                      0.04  \n",
       "GaussianNB                         0.03  \n",
       "LGBMClassifier                     0.57  "
      ]
     },
     "execution_count": 39,
     "metadata": {},
     "output_type": "execute_result"
    }
   ],
   "source": [
    "clf = LazyClassifier(verbose=0,ignore_warnings=True, custom_metric=None, predictions=True)\n",
    "models,predictions = clf.fit(X_train, X_test, y_train, y_test)\n",
    "models[:10]"
   ]
  },
  {
   "cell_type": "code",
   "execution_count": 40,
   "id": "973c8f7e",
   "metadata": {},
   "outputs": [],
   "source": [
    "yhat = predictions['ExtraTreeClassifier']"
   ]
  },
  {
   "cell_type": "code",
   "execution_count": 41,
   "id": "7c724c57",
   "metadata": {},
   "outputs": [
    {
     "name": "stdout",
     "output_type": "stream",
     "text": [
      "              precision    recall  f1-score   support\n",
      "\n",
      "           0       1.00      0.43      0.60         7\n",
      "           1       0.82      1.00      0.90        18\n",
      "           2       0.86      1.00      0.92         6\n",
      "           4       0.50      0.67      0.57         3\n",
      "           5       0.93      0.96      0.95        45\n",
      "           6       1.00      0.82      0.90        17\n",
      "\n",
      "    accuracy                           0.90        96\n",
      "   macro avg       0.85      0.81      0.81        96\n",
      "weighted avg       0.91      0.90      0.89        96\n",
      "\n"
     ]
    }
   ],
   "source": [
    "print(classification_report(y_test,yhat))"
   ]
  },
  {
   "cell_type": "markdown",
   "id": "b0f2b2f6",
   "metadata": {},
   "source": [
    "### Support Vector Classification"
   ]
  },
  {
   "cell_type": "code",
   "execution_count": 42,
   "id": "925edfa3",
   "metadata": {},
   "outputs": [
    {
     "name": "stdout",
     "output_type": "stream",
     "text": [
      "The SVC performs better using a linear kernel, obtaining a 91.66666666666666% of accuracy\n",
      "The (test) accuracy is approximately 92%\n"
     ]
    }
   ],
   "source": [
    "kernels = ['rbf', 'poly', 'sigmoid','linear']\n",
    "best_score_SVC = 0\n",
    "kernel_best = ''\n",
    "for i in kernels:\n",
    "    SupVec = SVC(kernel=i, gamma='auto', random_state=1)\n",
    "    SupVec.fit(X_train,y_train)\n",
    "    Y_pred_SV = SupVec.predict(X_test)\n",
    "    if SupVec.score(X_test, y_test) > best_score_SVC:\n",
    "        best_score_SVC = SupVec.score(X_test, y_test)\n",
    "        kernel_best = i\n",
    "    \n",
    "print('The SVC performs better using a {} kernel, obtaining a {}% of accuracy'.format(kernel_best, best_score_SVC*100))\n",
    "print(\"The (test) accuracy is approximately {}%\".format(round(SupVec.score(X_test,y_test)*100)))"
   ]
  },
  {
   "cell_type": "code",
   "execution_count": 43,
   "id": "9a125ac0",
   "metadata": {
    "scrolled": true
   },
   "outputs": [
    {
     "data": {
      "text/plain": [
       "<sklearn.metrics._plot.confusion_matrix.ConfusionMatrixDisplay at 0x21220f717f0>"
      ]
     },
     "execution_count": 43,
     "metadata": {},
     "output_type": "execute_result"
    },
    {
     "data": {
      "image/png": "[encoded data removed]",
      "text/plain": [
       "<Figure size 432x288 with 2 Axes>"
      ]
     },
     "metadata": {
      "needs_background": "light"
     },
     "output_type": "display_data"
    }
   ],
   "source": [
    "matrix_SV = confusion_matrix(y_test, Y_pred_SV, labels=[0,1])\n",
    "plot_confusion_matrix(SupVec, X_test, y_test,labels=[0,1],cmap='Blues')"
   ]
  },
  {
   "cell_type": "code",
   "execution_count": 44,
   "id": "adb9170c",
   "metadata": {},
   "outputs": [
    {
     "data": {
      "image/png": "[encoded data removed]",
      "text/plain": [
       "<Figure size 432x288 with 2 Axes>"
      ]
     },
     "metadata": {
      "needs_background": "light"
     },
     "output_type": "display_data"
    }
   ],
   "source": [
    "sns.heatmap(confusion_matrix(y_test,yhat),annot=True)\n",
    "plt.title('Confusion Matrix')\n",
    "plt.show()"
   ]
  },
  {
   "cell_type": "code",
   "execution_count": null,
   "id": "4f98422a",
   "metadata": {},
   "outputs": [],
   "source": []
  }
 ],
 "metadata": {
  "kernelspec": {
   "display_name": "Python 3 (ipykernel)",
   "language": "python",
   "name": "python3"
  },
  "language_info": {
   "codemirror_mode": {
    "name": "ipython",
    "version": 3
   },
   "file_extension": ".py",
   "mimetype": "text/x-python",
   "name": "python",
   "nbconvert_exporter": "python",
   "pygments_lexer": "ipython3",
   "version": "3.9.12"
  }
 },
 "nbformat": 4,
 "nbformat_minor": 5
}
