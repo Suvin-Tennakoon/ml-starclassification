{
 "cells": [
  {
   "cell_type": "code",
   "execution_count": 10,
   "id": "f0116d7e",
   "metadata": {
    "scrolled": true
   },
   "outputs": [
    {
     "name": "stdout",
     "output_type": "stream",
     "text": [
      "Defaulting to user installation because normal site-packages is not writeable\n",
      "Requirement already satisfied: lazypredict in c:\\users\\abc\\appdata\\roaming\\python\\python39\\site-packages (0.2.12)\n",
      "Requirement already satisfied: joblib in c:\\programdata\\anaconda3\\lib\\site-packages (from lazypredict) (1.1.0)\n",
      "Requirement already satisfied: click in c:\\programdata\\anaconda3\\lib\\site-packages (from lazypredict) (8.0.4)\n",
      "Requirement already satisfied: tqdm in c:\\programdata\\anaconda3\\lib\\site-packages (from lazypredict) (4.64.0)\n",
      "Requirement already satisfied: lightgbm in c:\\users\\abc\\appdata\\roaming\\python\\python39\\site-packages (from lazypredict) (3.3.5)\n",
      "Requirement already satisfied: xgboost in c:\\users\\abc\\appdata\\roaming\\python\\python39\\site-packages (from lazypredict) (1.7.5)\n",
      "Requirement already satisfied: scikit-learn in c:\\programdata\\anaconda3\\lib\\site-packages (from lazypredict) (1.0.2)\n",
      "Requirement already satisfied: pandas in c:\\programdata\\anaconda3\\lib\\site-packages (from lazypredict) (1.4.2)\n",
      "Requirement already satisfied: colorama in c:\\programdata\\anaconda3\\lib\\site-packages (from click->lazypredict) (0.4.4)\n",
      "Requirement already satisfied: scipy in c:\\programdata\\anaconda3\\lib\\site-packages (from lightgbm->lazypredict) (1.7.3)\n",
      "Requirement already satisfied: numpy in c:\\programdata\\anaconda3\\lib\\site-packages (from lightgbm->lazypredict) (1.21.5)\n",
      "Requirement already satisfied: wheel in c:\\programdata\\anaconda3\\lib\\site-packages (from lightgbm->lazypredict) (0.37.1)\n",
      "Requirement already satisfied: threadpoolctl>=2.0.0 in c:\\programdata\\anaconda3\\lib\\site-packages (from scikit-learn->lazypredict) (2.2.0)\n",
      "Requirement already satisfied: python-dateutil>=2.8.1 in c:\\programdata\\anaconda3\\lib\\site-packages (from pandas->lazypredict) (2.8.2)\n",
      "Requirement already satisfied: pytz>=2020.1 in c:\\programdata\\anaconda3\\lib\\site-packages (from pandas->lazypredict) (2021.3)\n",
      "Requirement already satisfied: six>=1.5 in c:\\programdata\\anaconda3\\lib\\site-packages (from python-dateutil>=2.8.1->pandas->lazypredict) (1.16.0)\n",
      "Note: you may need to restart the kernel to use updated packages.\n"
     ]
    }
   ],
   "source": [
    "pip install lazypredict"
   ]
  },
  {
   "cell_type": "code",
   "execution_count": 11,
   "id": "65f394d5",
   "metadata": {},
   "outputs": [],
   "source": [
    "# Import necessary libraries\n",
    "import pandas as pd\n",
    "from sklearn.model_selection import train_test_split\n",
    "from sklearn.tree import DecisionTreeClassifier\n",
    "from sklearn.metrics import accuracy_score\n",
    "from sklearn.tree import DecisionTreeClassifier, DecisionTreeRegressor\n",
    "from sklearn.cluster import KMeans, DBSCAN, AgglomerativeClustering\n",
    "from sklearn.preprocessing import StandardScaler\n",
    "from sklearn.metrics import silhouette_score"
   ]
  },
  {
   "cell_type": "code",
   "execution_count": 12,
   "id": "bd5032c4",
   "metadata": {},
   "outputs": [
    {
     "data": {
      "text/html": [
       "<div>\n",
       "<style scoped>\n",
       "    .dataframe tbody tr th:only-of-type {\n",
       "        vertical-align: middle;\n",
       "    }\n",
       "\n",
       "    .dataframe tbody tr th {\n",
       "        vertical-align: top;\n",
       "    }\n",
       "\n",
       "    .dataframe thead th {\n",
       "        text-align: right;\n",
       "    }\n",
       "</style>\n",
       "<table border=\"1\" class=\"dataframe\">\n",
       "  <thead>\n",
       "    <tr style=\"text-align: right;\">\n",
       "      <th></th>\n",
       "      <th>Temperature (K)</th>\n",
       "      <th>Luminosity(L/Lo)</th>\n",
       "      <th>Radius(R/Ro)</th>\n",
       "      <th>Absolute magnitude(Mv)</th>\n",
       "      <th>Star type</th>\n",
       "    </tr>\n",
       "  </thead>\n",
       "  <tbody>\n",
       "    <tr>\n",
       "      <th>count</th>\n",
       "      <td>240.000000</td>\n",
       "      <td>240.000000</td>\n",
       "      <td>240.000000</td>\n",
       "      <td>240.000000</td>\n",
       "      <td>240.000000</td>\n",
       "    </tr>\n",
       "    <tr>\n",
       "      <th>mean</th>\n",
       "      <td>10497.462500</td>\n",
       "      <td>107188.361635</td>\n",
       "      <td>237.157781</td>\n",
       "      <td>4.382396</td>\n",
       "      <td>2.500000</td>\n",
       "    </tr>\n",
       "    <tr>\n",
       "      <th>std</th>\n",
       "      <td>9552.425037</td>\n",
       "      <td>179432.244940</td>\n",
       "      <td>517.155763</td>\n",
       "      <td>10.532512</td>\n",
       "      <td>1.711394</td>\n",
       "    </tr>\n",
       "    <tr>\n",
       "      <th>min</th>\n",
       "      <td>1939.000000</td>\n",
       "      <td>0.000080</td>\n",
       "      <td>0.008400</td>\n",
       "      <td>-11.920000</td>\n",
       "      <td>0.000000</td>\n",
       "    </tr>\n",
       "    <tr>\n",
       "      <th>25%</th>\n",
       "      <td>3344.250000</td>\n",
       "      <td>0.000865</td>\n",
       "      <td>0.102750</td>\n",
       "      <td>-6.232500</td>\n",
       "      <td>1.000000</td>\n",
       "    </tr>\n",
       "    <tr>\n",
       "      <th>50%</th>\n",
       "      <td>5776.000000</td>\n",
       "      <td>0.070500</td>\n",
       "      <td>0.762500</td>\n",
       "      <td>8.313000</td>\n",
       "      <td>2.500000</td>\n",
       "    </tr>\n",
       "    <tr>\n",
       "      <th>75%</th>\n",
       "      <td>15055.500000</td>\n",
       "      <td>198050.000000</td>\n",
       "      <td>42.750000</td>\n",
       "      <td>13.697500</td>\n",
       "      <td>4.000000</td>\n",
       "    </tr>\n",
       "    <tr>\n",
       "      <th>max</th>\n",
       "      <td>40000.000000</td>\n",
       "      <td>849420.000000</td>\n",
       "      <td>1948.500000</td>\n",
       "      <td>20.060000</td>\n",
       "      <td>5.000000</td>\n",
       "    </tr>\n",
       "  </tbody>\n",
       "</table>\n",
       "</div>"
      ],
      "text/plain": [
       "       Temperature (K)  Luminosity(L/Lo)  Radius(R/Ro)  \\\n",
       "count       240.000000        240.000000    240.000000   \n",
       "mean      10497.462500     107188.361635    237.157781   \n",
       "std        9552.425037     179432.244940    517.155763   \n",
       "min        1939.000000          0.000080      0.008400   \n",
       "25%        3344.250000          0.000865      0.102750   \n",
       "50%        5776.000000          0.070500      0.762500   \n",
       "75%       15055.500000     198050.000000     42.750000   \n",
       "max       40000.000000     849420.000000   1948.500000   \n",
       "\n",
       "       Absolute magnitude(Mv)   Star type  \n",
       "count              240.000000  240.000000  \n",
       "mean                 4.382396    2.500000  \n",
       "std                 10.532512    1.711394  \n",
       "min                -11.920000    0.000000  \n",
       "25%                 -6.232500    1.000000  \n",
       "50%                  8.313000    2.500000  \n",
       "75%                 13.697500    4.000000  \n",
       "max                 20.060000    5.000000  "
      ]
     },
     "execution_count": 12,
     "metadata": {},
     "output_type": "execute_result"
    }
   ],
   "source": [
    "# Load the dataset\n",
    "decision_Tree = pd.read_csv('6_class_csv.csv')\n",
    "decision_Tree.describe()"
   ]
  },
  {
   "cell_type": "code",
   "execution_count": 13,
   "id": "476bfcab",
   "metadata": {},
   "outputs": [
    {
     "data": {
      "text/html": [
       "<style type=\"text/css\">\n",
       "#T_c5356_row0_col1 {\n",
       "  width: 10em;\n",
       "  background: linear-gradient(90deg, #606ff2 9.8%, transparent 9.8%);\n",
       "}\n",
       "#T_c5356_row0_col2 {\n",
       "  background-color: #3e3891;\n",
       "  color: #f1f1f1;\n",
       "}\n",
       "#T_c5356_row0_col5 {\n",
       "  background-color: #67000d;\n",
       "  color: #f1f1f1;\n",
       "}\n",
       "#T_c5356_row1_col1 {\n",
       "  width: 10em;\n",
       "  background: linear-gradient(90deg, #606ff2 100.0%, transparent 100.0%);\n",
       "}\n",
       "#T_c5356_row1_col2 {\n",
       "  background-color: #7a0403;\n",
       "  color: #f1f1f1;\n",
       "}\n",
       "#T_c5356_row1_col5, #T_c5356_row2_col5, #T_c5356_row3_col5, #T_c5356_row4_col5 {\n",
       "  background-color: #fff5f0;\n",
       "  color: #000000;\n",
       "}\n",
       "#T_c5356_row2_col1 {\n",
       "  width: 10em;\n",
       "  background: linear-gradient(90deg, #606ff2 0.2%, transparent 0.2%);\n",
       "}\n",
       "#T_c5356_row2_col2, #T_c5356_row3_col2, #T_c5356_row4_col2 {\n",
       "  background-color: #30123b;\n",
       "  color: #f1f1f1;\n",
       "}\n",
       "#T_c5356_row3_col1, #T_c5356_row4_col1 {\n",
       "  width: 10em;\n",
       "  background: linear-gradient(90deg, #606ff2 0.0%, transparent 0.0%);\n",
       "}\n",
       "</style>\n",
       "<table id=\"T_c5356\">\n",
       "  <thead>\n",
       "    <tr>\n",
       "      <th class=\"blank level0\" >&nbsp;</th>\n",
       "      <th id=\"T_c5356_level0_col0\" class=\"col_heading level0 col0\" >count</th>\n",
       "      <th id=\"T_c5356_level0_col1\" class=\"col_heading level0 col1\" >mean</th>\n",
       "      <th id=\"T_c5356_level0_col2\" class=\"col_heading level0 col2\" >std</th>\n",
       "      <th id=\"T_c5356_level0_col3\" class=\"col_heading level0 col3\" >min</th>\n",
       "      <th id=\"T_c5356_level0_col4\" class=\"col_heading level0 col4\" >25%</th>\n",
       "      <th id=\"T_c5356_level0_col5\" class=\"col_heading level0 col5\" >50%</th>\n",
       "      <th id=\"T_c5356_level0_col6\" class=\"col_heading level0 col6\" >75%</th>\n",
       "      <th id=\"T_c5356_level0_col7\" class=\"col_heading level0 col7\" >max</th>\n",
       "    </tr>\n",
       "  </thead>\n",
       "  <tbody>\n",
       "    <tr>\n",
       "      <th id=\"T_c5356_level0_row0\" class=\"row_heading level0 row0\" >Temperature (K)</th>\n",
       "      <td id=\"T_c5356_row0_col0\" class=\"data row0 col0\" >240.000000</td>\n",
       "      <td id=\"T_c5356_row0_col1\" class=\"data row0 col1\" >10497.462500</td>\n",
       "      <td id=\"T_c5356_row0_col2\" class=\"data row0 col2\" >9552.425037</td>\n",
       "      <td id=\"T_c5356_row0_col3\" class=\"data row0 col3\" >1939.000000</td>\n",
       "      <td id=\"T_c5356_row0_col4\" class=\"data row0 col4\" >3344.250000</td>\n",
       "      <td id=\"T_c5356_row0_col5\" class=\"data row0 col5\" >5776.000000</td>\n",
       "      <td id=\"T_c5356_row0_col6\" class=\"data row0 col6\" >15055.500000</td>\n",
       "      <td id=\"T_c5356_row0_col7\" class=\"data row0 col7\" >40000.000000</td>\n",
       "    </tr>\n",
       "    <tr>\n",
       "      <th id=\"T_c5356_level0_row1\" class=\"row_heading level0 row1\" >Luminosity(L/Lo)</th>\n",
       "      <td id=\"T_c5356_row1_col0\" class=\"data row1 col0\" >240.000000</td>\n",
       "      <td id=\"T_c5356_row1_col1\" class=\"data row1 col1\" >107188.361635</td>\n",
       "      <td id=\"T_c5356_row1_col2\" class=\"data row1 col2\" >179432.244940</td>\n",
       "      <td id=\"T_c5356_row1_col3\" class=\"data row1 col3\" >0.000080</td>\n",
       "      <td id=\"T_c5356_row1_col4\" class=\"data row1 col4\" >0.000865</td>\n",
       "      <td id=\"T_c5356_row1_col5\" class=\"data row1 col5\" >0.070500</td>\n",
       "      <td id=\"T_c5356_row1_col6\" class=\"data row1 col6\" >198050.000000</td>\n",
       "      <td id=\"T_c5356_row1_col7\" class=\"data row1 col7\" >849420.000000</td>\n",
       "    </tr>\n",
       "    <tr>\n",
       "      <th id=\"T_c5356_level0_row2\" class=\"row_heading level0 row2\" >Radius(R/Ro)</th>\n",
       "      <td id=\"T_c5356_row2_col0\" class=\"data row2 col0\" >240.000000</td>\n",
       "      <td id=\"T_c5356_row2_col1\" class=\"data row2 col1\" >237.157781</td>\n",
       "      <td id=\"T_c5356_row2_col2\" class=\"data row2 col2\" >517.155763</td>\n",
       "      <td id=\"T_c5356_row2_col3\" class=\"data row2 col3\" >0.008400</td>\n",
       "      <td id=\"T_c5356_row2_col4\" class=\"data row2 col4\" >0.102750</td>\n",
       "      <td id=\"T_c5356_row2_col5\" class=\"data row2 col5\" >0.762500</td>\n",
       "      <td id=\"T_c5356_row2_col6\" class=\"data row2 col6\" >42.750000</td>\n",
       "      <td id=\"T_c5356_row2_col7\" class=\"data row2 col7\" >1948.500000</td>\n",
       "    </tr>\n",
       "    <tr>\n",
       "      <th id=\"T_c5356_level0_row3\" class=\"row_heading level0 row3\" >Absolute magnitude(Mv)</th>\n",
       "      <td id=\"T_c5356_row3_col0\" class=\"data row3 col0\" >240.000000</td>\n",
       "      <td id=\"T_c5356_row3_col1\" class=\"data row3 col1\" >4.382396</td>\n",
       "      <td id=\"T_c5356_row3_col2\" class=\"data row3 col2\" >10.532512</td>\n",
       "      <td id=\"T_c5356_row3_col3\" class=\"data row3 col3\" >-11.920000</td>\n",
       "      <td id=\"T_c5356_row3_col4\" class=\"data row3 col4\" >-6.232500</td>\n",
       "      <td id=\"T_c5356_row3_col5\" class=\"data row3 col5\" >8.313000</td>\n",
       "      <td id=\"T_c5356_row3_col6\" class=\"data row3 col6\" >13.697500</td>\n",
       "      <td id=\"T_c5356_row3_col7\" class=\"data row3 col7\" >20.060000</td>\n",
       "    </tr>\n",
       "    <tr>\n",
       "      <th id=\"T_c5356_level0_row4\" class=\"row_heading level0 row4\" >Star type</th>\n",
       "      <td id=\"T_c5356_row4_col0\" class=\"data row4 col0\" >240.000000</td>\n",
       "      <td id=\"T_c5356_row4_col1\" class=\"data row4 col1\" >2.500000</td>\n",
       "      <td id=\"T_c5356_row4_col2\" class=\"data row4 col2\" >1.711394</td>\n",
       "      <td id=\"T_c5356_row4_col3\" class=\"data row4 col3\" >0.000000</td>\n",
       "      <td id=\"T_c5356_row4_col4\" class=\"data row4 col4\" >1.000000</td>\n",
       "      <td id=\"T_c5356_row4_col5\" class=\"data row4 col5\" >2.500000</td>\n",
       "      <td id=\"T_c5356_row4_col6\" class=\"data row4 col6\" >4.000000</td>\n",
       "      <td id=\"T_c5356_row4_col7\" class=\"data row4 col7\" >5.000000</td>\n",
       "    </tr>\n",
       "  </tbody>\n",
       "</table>\n"
      ],
      "text/plain": [
       "<pandas.io.formats.style.Styler at 0x1f286edda90>"
      ]
     },
     "execution_count": 13,
     "metadata": {},
     "output_type": "execute_result"
    }
   ],
   "source": [
    "decision_Tree.describe().T.style.bar(subset=['mean'],color='#606ff2').background_gradient(subset=['std'], cmap='turbo').background_gradient(subset=['50%'], cmap='Reds')"
   ]
  },
  {
   "cell_type": "code",
   "execution_count": 14,
   "id": "d71eb28f",
   "metadata": {},
   "outputs": [
    {
     "data": {
      "text/plain": [
       "Temperature (K)             int64\n",
       "Luminosity(L/Lo)          float64\n",
       "Radius(R/Ro)              float64\n",
       "Absolute magnitude(Mv)    float64\n",
       "Star type                   int64\n",
       "Star color                 object\n",
       "Spectral Class             object\n",
       "dtype: object"
      ]
     },
     "execution_count": 14,
     "metadata": {},
     "output_type": "execute_result"
    }
   ],
   "source": [
    "decision_Tree.dtypes"
   ]
  },
  {
   "cell_type": "code",
   "execution_count": 15,
   "id": "89346cc0",
   "metadata": {},
   "outputs": [
    {
     "name": "stdout",
     "output_type": "stream",
     "text": [
      "Temperature (K)           0\n",
      "Luminosity(L/Lo)          0\n",
      "Radius(R/Ro)              0\n",
      "Absolute magnitude(Mv)    0\n",
      "Star type                 0\n",
      "Star color                0\n",
      "Spectral Class            0\n",
      "dtype: int64\n",
      "Temperature (K)           0\n",
      "Luminosity(L/Lo)          0\n",
      "Radius(R/Ro)              0\n",
      "Absolute magnitude(Mv)    0\n",
      "Star type                 0\n",
      "Star color                0\n",
      "Spectral Class            0\n",
      "dtype: int64\n"
     ]
    }
   ],
   "source": [
    "null, nan = decision_Tree.isnull().sum() , decision_Tree.isna().sum()\n",
    "print(null)\n",
    "print(nan)"
   ]
  },
  {
   "cell_type": "code",
   "execution_count": 17,
   "id": "ba97077f",
   "metadata": {},
   "outputs": [
    {
     "data": {
      "text/plain": [
       "array([0, 1, 2, 3, 4, 5], dtype=int64)"
      ]
     },
     "execution_count": 17,
     "metadata": {},
     "output_type": "execute_result"
    }
   ],
   "source": [
    "decision_Tree['Star type'].unique()"
   ]
  },
  {
   "cell_type": "code",
   "execution_count": 18,
   "id": "95375a4b",
   "metadata": {},
   "outputs": [
    {
     "data": {
      "text/plain": [
       "array(['Red', 'Blue White', 'White', 'Yellowish White', 'Blue white',\n",
       "       'Pale yellow orange', 'Blue', 'Blue-white', 'Whitish',\n",
       "       'yellow-white', 'Orange', 'White-Yellow', 'white', 'Blue ',\n",
       "       'yellowish', 'Yellowish', 'Orange-Red', 'Blue white ',\n",
       "       'Blue-White'], dtype=object)"
      ]
     },
     "execution_count": 18,
     "metadata": {},
     "output_type": "execute_result"
    }
   ],
   "source": [
    "decision_Tree['Star color'].unique()"
   ]
  },
  {
   "cell_type": "code",
   "execution_count": 19,
   "id": "edf70962",
   "metadata": {},
   "outputs": [
    {
     "data": {
      "text/plain": [
       "array(['M', 'B', 'A', 'F', 'O', 'K', 'G'], dtype=object)"
      ]
     },
     "execution_count": 19,
     "metadata": {},
     "output_type": "execute_result"
    }
   ],
   "source": [
    "decision_Tree['Spectral Class'].unique()"
   ]
  },
  {
   "cell_type": "code",
   "execution_count": 13,
   "id": "58a63015",
   "metadata": {},
   "outputs": [],
   "source": [
    "# Split the dataset into features (X) and labels (y)\n",
    "X = decision_Tree.drop(['Star type', 'Star color', 'Spectral Class'], axis=1) # Features\n",
    "y = decision_Tree['Star type'] # Labels"
   ]
  },
  {
   "cell_type": "code",
   "execution_count": 14,
   "id": "4fcfded3",
   "metadata": {},
   "outputs": [],
   "source": [
    "# Split the data into training and testing sets\n",
    "X_train, X_test, y_train, y_test = train_test_split(X, y, test_size=0.2, random_state=42)"
   ]
  },
  {
   "cell_type": "code",
   "execution_count": 15,
   "id": "5f88d9a3",
   "metadata": {},
   "outputs": [
    {
     "data": {
      "text/plain": [
       "DecisionTreeClassifier()"
      ]
     },
     "execution_count": 15,
     "metadata": {},
     "output_type": "execute_result"
    }
   ],
   "source": [
    "# Initialize and train the model\n",
    "model = DecisionTreeClassifier()\n",
    "model.fit(X_train, y_train)"
   ]
  },
  {
   "cell_type": "code",
   "execution_count": 16,
   "id": "fb761987",
   "metadata": {},
   "outputs": [],
   "source": [
    "# Predict on test set\n",
    "y_pred = model.predict(X_test)"
   ]
  },
  {
   "cell_type": "code",
   "execution_count": 17,
   "id": "07401d7f",
   "metadata": {},
   "outputs": [
    {
     "name": "stdout",
     "output_type": "stream",
     "text": [
      "Accuracy: 1.00\n"
     ]
    }
   ],
   "source": [
    "# Evaluate model performance\n",
    "accuracy = accuracy_score(y_test, y_pred)\n",
    "print(f'Accuracy: {accuracy:.2f}')"
   ]
  },
  {
   "cell_type": "code",
   "execution_count": 20,
   "id": "d193f137",
   "metadata": {},
   "outputs": [
    {
     "name": "stdout",
     "output_type": "stream",
     "text": [
      "Predicted values for classification: [2 0 3 4 4 5 5 2 0 2 4 2 5 4 5 5 0 1 3 0 0 1 5 3 5 3 1 2 5 3 3 4 2 0 1 0 1\n",
      " 5 1 5 4 5 4 1 3 0 4 3]\n"
     ]
    }
   ],
   "source": [
    "# For classification\n",
    "classifier = DecisionTreeClassifier()\n",
    "classifier.fit(X_train, y_train)\n",
    "y_pred_classifier = classifier.predict(X_test)\n",
    "\n",
    "# Print predicted values for classification\n",
    "print('Predicted values for classification:', y_pred_classifier)"
   ]
  },
  {
   "cell_type": "code",
   "execution_count": 21,
   "id": "e993282e",
   "metadata": {},
   "outputs": [
    {
     "name": "stdout",
     "output_type": "stream",
     "text": [
      "Predicted values for regression: [2. 0. 3. 4. 4. 5. 5. 2. 0. 2. 4. 2. 5. 4. 5. 5. 0. 1. 3. 0. 0. 1. 5. 3.\n",
      " 5. 3. 1. 2. 5. 3. 3. 4. 2. 0. 1. 0. 1. 5. 1. 5. 4. 5. 4. 1. 3. 0. 4. 3.]\n"
     ]
    }
   ],
   "source": [
    "# For regression\n",
    "regressor = DecisionTreeRegressor()\n",
    "regressor.fit(X_train, y_train)\n",
    "y_pred_regressor = regressor.predict(X_test)\n",
    "\n",
    "# Print predicted values for regression\n",
    "print('Predicted values for regression:', y_pred_regressor)"
   ]
  },
  {
   "cell_type": "code",
   "execution_count": null,
   "id": "de42ca82",
   "metadata": {},
   "outputs": [],
   "source": []
  }
 ],
 "metadata": {
  "kernelspec": {
   "display_name": "Python 3 (ipykernel)",
   "language": "python",
   "name": "python3"
  },
  "language_info": {
   "codemirror_mode": {
    "name": "ipython",
    "version": 3
   },
   "file_extension": ".py",
   "mimetype": "text/x-python",
   "name": "python",
   "nbconvert_exporter": "python",
   "pygments_lexer": "ipython3",
   "version": "3.9.12"
  }
 },
 "nbformat": 4,
 "nbformat_minor": 5
}
