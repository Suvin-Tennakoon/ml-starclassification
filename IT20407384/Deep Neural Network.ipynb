{
 "cells": [
  {
   "cell_type": "markdown",
   "metadata": {},
   "source": [
    "# Star Classification DNN (6 Class Classification)"
   ]
  },
  {
   "cell_type": "markdown",
   "metadata": {},
   "source": [
    "## // Required Modules"
   ]
  },
  {
   "cell_type": "code",
   "execution_count": 16,
   "metadata": {},
   "outputs": [],
   "source": [
    "import matplotlib.pyplot as plot\n",
    "import numpy\n",
    "import pandas\n",
    "from sklearn import preprocessing, model_selection\n",
    "import tensorflow as tflow\n",
    "from tensorflow import keras"
   ]
  },
  {
   "cell_type": "markdown",
   "metadata": {},
   "source": [
    "## // Importing dataset of stars"
   ]
  },
  {
   "cell_type": "code",
   "execution_count": 17,
   "metadata": {},
   "outputs": [],
   "source": [
    "dataset = pandas.read_csv('./6 class csv.csv')"
   ]
  },
  {
   "cell_type": "markdown",
   "metadata": {},
   "source": [
    "## // Upper part of dataset"
   ]
  },
  {
   "cell_type": "code",
   "execution_count": 18,
   "metadata": {},
   "outputs": [
    {
     "data": {
      "text/html": [
       "<div>\n",
       "<style scoped>\n",
       "    .dataframe tbody tr th:only-of-type {\n",
       "        vertical-align: middle;\n",
       "    }\n",
       "\n",
       "    .dataframe tbody tr th {\n",
       "        vertical-align: top;\n",
       "    }\n",
       "\n",
       "    .dataframe thead th {\n",
       "        text-align: right;\n",
       "    }\n",
       "</style>\n",
       "<table border=\"1\" class=\"dataframe\">\n",
       "  <thead>\n",
       "    <tr style=\"text-align: right;\">\n",
       "      <th></th>\n",
       "      <th>Temperature (K)</th>\n",
       "      <th>Luminosity(L/Lo)</th>\n",
       "      <th>Radius(R/Ro)</th>\n",
       "      <th>Absolute magnitude(Mv)</th>\n",
       "      <th>Star type</th>\n",
       "      <th>Star color</th>\n",
       "      <th>Spectral Class</th>\n",
       "    </tr>\n",
       "  </thead>\n",
       "  <tbody>\n",
       "    <tr>\n",
       "      <th>0</th>\n",
       "      <td>3068</td>\n",
       "      <td>0.002400</td>\n",
       "      <td>0.1700</td>\n",
       "      <td>16.12</td>\n",
       "      <td>0</td>\n",
       "      <td>Red</td>\n",
       "      <td>M</td>\n",
       "    </tr>\n",
       "    <tr>\n",
       "      <th>1</th>\n",
       "      <td>3042</td>\n",
       "      <td>0.000500</td>\n",
       "      <td>0.1542</td>\n",
       "      <td>16.60</td>\n",
       "      <td>0</td>\n",
       "      <td>Red</td>\n",
       "      <td>M</td>\n",
       "    </tr>\n",
       "    <tr>\n",
       "      <th>2</th>\n",
       "      <td>2600</td>\n",
       "      <td>0.000300</td>\n",
       "      <td>0.1020</td>\n",
       "      <td>18.70</td>\n",
       "      <td>0</td>\n",
       "      <td>Red</td>\n",
       "      <td>M</td>\n",
       "    </tr>\n",
       "    <tr>\n",
       "      <th>3</th>\n",
       "      <td>2800</td>\n",
       "      <td>0.000200</td>\n",
       "      <td>0.1600</td>\n",
       "      <td>16.65</td>\n",
       "      <td>0</td>\n",
       "      <td>Red</td>\n",
       "      <td>M</td>\n",
       "    </tr>\n",
       "    <tr>\n",
       "      <th>4</th>\n",
       "      <td>1939</td>\n",
       "      <td>0.000138</td>\n",
       "      <td>0.1030</td>\n",
       "      <td>20.06</td>\n",
       "      <td>0</td>\n",
       "      <td>Red</td>\n",
       "      <td>M</td>\n",
       "    </tr>\n",
       "  </tbody>\n",
       "</table>\n",
       "</div>"
      ],
      "text/plain": [
       "   Temperature (K)  Luminosity(L/Lo)  Radius(R/Ro)  Absolute magnitude(Mv)  \\\n",
       "0             3068          0.002400        0.1700                   16.12   \n",
       "1             3042          0.000500        0.1542                   16.60   \n",
       "2             2600          0.000300        0.1020                   18.70   \n",
       "3             2800          0.000200        0.1600                   16.65   \n",
       "4             1939          0.000138        0.1030                   20.06   \n",
       "\n",
       "   Star type Star color Spectral Class  \n",
       "0          0        Red              M  \n",
       "1          0        Red              M  \n",
       "2          0        Red              M  \n",
       "3          0        Red              M  \n",
       "4          0        Red              M  "
      ]
     },
     "execution_count": 18,
     "metadata": {},
     "output_type": "execute_result"
    }
   ],
   "source": [
    "dataset.head()"
   ]
  },
  {
   "cell_type": "markdown",
   "metadata": {},
   "source": [
    "## // Checking For NULL Values\n",
    "\n",
    "Since value output is 'False' no need to take preprocessing actions.\n",
    "If there are NULL values, need to perform removel of rows or replace with another values."
   ]
  },
  {
   "cell_type": "code",
   "execution_count": 19,
   "metadata": {},
   "outputs": [
    {
     "data": {
      "text/plain": [
       "False"
      ]
     },
     "execution_count": 19,
     "metadata": {},
     "output_type": "execute_result"
    }
   ],
   "source": [
    "dataset.isnull().values.any()"
   ]
  },
  {
   "cell_type": "markdown",
   "metadata": {},
   "source": [
    "## // Checking Stats about dataset"
   ]
  },
  {
   "cell_type": "code",
   "execution_count": 20,
   "metadata": {},
   "outputs": [],
   "source": [
    "# Stellar classification:\n",
    "# Type 0 represents Brown Dwarf,\n",
    "# Type 1 represents Red Dwarf,\n",
    "# Type 2 represents White Dwarf,\n",
    "# Type 3 represents Main-Sequence,\n",
    "# Type 4 represents Supergiant,\n",
    "# Type 5 represents Hypergiant."
   ]
  },
  {
   "cell_type": "code",
   "execution_count": 21,
   "metadata": {
    "scrolled": true
   },
   "outputs": [
    {
     "name": "stdout",
     "output_type": "stream",
     "text": [
      "Brown dwarf          = 40\n",
      "Red dwarf            = 40\n",
      "White Dwarf          = 40\n",
      "Main Sequence        = 40\n",
      "Supergiant           = 40\n",
      "Hypergiant           = 40\n",
      "Dataset total stars  = 240\n"
     ]
    }
   ],
   "source": [
    "brown_dwarfs = len(dataset.loc[dataset['Star type'] == 0])\n",
    "red_dwarfs= len(dataset.loc[dataset['Star type'] == 1])\n",
    "white_dwarfs = len(dataset.loc[dataset['Star type'] == 2])\n",
    "main_sequences = len(dataset.loc[dataset['Star type'] == 3])\n",
    "supergiants = len(dataset.loc[dataset['Star type'] == 4])\n",
    "hypergiants = len(dataset.loc[dataset['Star type'] == 5])\n",
    "\n",
    "print(\"Brown dwarf          =\",brown_dwarfs)\n",
    "print(\"Red dwarf            =\",red_dwarfs)\n",
    "print(\"White Dwarf          =\",white_dwarfs)\n",
    "print(\"Main Sequence        =\",main_sequences)\n",
    "print(\"Supergiant           =\",supergiants)\n",
    "print(\"Hypergiant           =\",hypergiants) \n",
    "print(\"Dataset total stars  =\",len(dataset))"
   ]
  },
  {
   "cell_type": "markdown",
   "metadata": {},
   "source": [
    "## // Converting Data into Numpy Arrays\n",
    "\n",
    "Data preparation. Removing any irrelevant features from the dataset."
   ]
  },
  {
   "cell_type": "code",
   "execution_count": 22,
   "metadata": {},
   "outputs": [],
   "source": [
    "x_axis = numpy.array(dataset.drop(['Star type', 'Star color','Spectral Class'], axis=1))   # x = Temperature, Luminosity, Radius, Absolute magnitude\n",
    "y_axis = numpy.array(dataset['Star type'], dtype ='float')                                 # y = star type\n",
    "y_axis.shape = (len(y_axis),1)                                                             # Column -> Column vector"
   ]
  },
  {
   "cell_type": "markdown",
   "metadata": {},
   "source": [
    "## // Splitting Data into Training + Testing Data"
   ]
  },
  {
   "cell_type": "code",
   "execution_count": 23,
   "metadata": {},
   "outputs": [],
   "source": [
    "x_trainset ,x_testset , y_trainset, y_testset = model_selection.train_test_split(x_axis,y_axis, test_size = 0.3)    \n",
    "\n",
    "#Splits data into 70:30 ratio\n",
    "#70% for training , 30% for testing"
   ]
  },
  {
   "cell_type": "markdown",
   "metadata": {},
   "source": [
    "## // Scaling data for better modelling\n",
    "Preprocessing Technique : Data Transformation (Scalling)\n",
    "scale the features to have zero mean and unit variance. (each feature will have a mean of 0 and a standard deviation of 1.)\n",
    "\n",
    "Feature normalization (Z-score normalization)"
   ]
  },
  {
   "cell_type": "code",
   "execution_count": 24,
   "metadata": {},
   "outputs": [],
   "source": [
    "x_train_scaled = preprocessing.scale(x_trainset)\n",
    "y_train_scaled = y_trainset\n",
    "\n",
    "x_test_scaled = preprocessing.scale(x_testset)\n",
    "y_test_scaled = y_testset"
   ]
  },
  {
   "cell_type": "markdown",
   "metadata": {},
   "source": [
    "## // Using DNN Model for Training Data\n",
    "\n",
    "#initiating Sequential Neural Network\n",
    "\n",
    "#adding 1st neural layer with 200 perceptrons\n",
    "\n",
    "#adding 2nd neural layer with 300 perceptrons\n",
    "\n",
    "#adding 3rd neural layer with 6 perceptrons for 6 classes to be classified.\n",
    "\n",
    "Rectified Linear Unit (ReLU) is used for hidden layers because it shown to perform well in many deep learning applications. Sigmoid activation function is commonly used for binary classification problems, where the output is either 0 or 1. However, it may not be the best choice for multi-class classification problems, as it may have difficulty in distinguishing between multiple classes.\n",
    "\n",
    "As the output layer activation function, softmax activation function is commonly used for multi-class classification problems because it outputs a probability distribution over the classes, where the sum of the probabilities equals one. This is particularly useful when we want to predict the probability of an input belonging to each class, as it allows us to choose the class with the highest probability as the predicted output.\n",
    "If we want to predict binary outputs or regression values, then other activation functions like sigmoid or linear may be more appropriate.\n",
    "\n",
    "Adam optimization is a stochastic (probabilistic) gradient descent method. It is a variant of the gradient descent algorithm that is designed to handle large datasets efficiently by updating the model parameters (weights and biases) incrementally on a subset of the training data, instead of the whole dataset at once.\n",
    "\n",
    "Then the loss function. That will be used to calculate the error between the predicted and actual output during training. 'SCC' is commonly used loss function for multi-class classification problems where the target variable is integers representing the class labels. (1, 2, 3, 4, 5, 6)\n"
   ]
  },
  {
   "cell_type": "code",
   "execution_count": 25,
   "metadata": {},
   "outputs": [],
   "source": [
    "new_model = keras.models.Sequential(\n",
    "    [\n",
    "        keras.layers.Dense(200,activation = tflow.nn.relu),\n",
    "        keras.layers.Dense(300,activation = tflow.nn.relu),\n",
    "        keras.layers.Dense(6,activation = tflow.nn.softmax)\n",
    "    ]\n",
    ")\n",
    "\n",
    "new_model.compile(optimizer = keras.optimizers.Adam(learning_rate=1e-2),\n",
    "       loss = 'sparse_categorical_crossentropy',\n",
    "       metrics=['accuracy'])"
   ]
  },
  {
   "cell_type": "markdown",
   "metadata": {},
   "source": [
    "## Fitting Data into Model\n",
    "\n",
    "Train the model. \n",
    "The epochs parameter specifies the number of times the training data should be iterated over during training. In each epoch, the entire training dataset is passed through the model, and the model parameters are updated based on the error between the predicted output and the true output.\n",
    "\n",
    "Too many `epoch` = Overfitting\n",
    "\n",
    "Too Less `epoch` = Underfitting"
   ]
  },
  {
   "cell_type": "code",
   "execution_count": 26,
   "metadata": {},
   "outputs": [
    {
     "name": "stdout",
     "output_type": "stream",
     "text": [
      "Epoch 1/100\n",
      "6/6 [==============================] - 1s 1ms/step - loss: 0.9889 - accuracy: 0.6905\n",
      "Epoch 2/100\n",
      "6/6 [==============================] - 0s 3ms/step - loss: 0.4451 - accuracy: 0.8393\n",
      "Epoch 3/100\n",
      "6/6 [==============================] - 0s 3ms/step - loss: 0.2485 - accuracy: 0.9464\n",
      "Epoch 4/100\n",
      "6/6 [==============================] - 0s 5ms/step - loss: 0.0805 - accuracy: 0.9821\n",
      "Epoch 5/100\n",
      "6/6 [==============================] - 0s 4ms/step - loss: 0.1082 - accuracy: 0.9643\n",
      "Epoch 6/100\n",
      "6/6 [==============================] - 0s 4ms/step - loss: 0.0363 - accuracy: 0.9881\n",
      "Epoch 7/100\n",
      "6/6 [==============================] - 0s 3ms/step - loss: 0.0749 - accuracy: 0.9702\n",
      "Epoch 8/100\n",
      "6/6 [==============================] - 0s 4ms/step - loss: 0.0547 - accuracy: 0.9702\n",
      "Epoch 9/100\n",
      "6/6 [==============================] - 0s 4ms/step - loss: 0.1881 - accuracy: 0.9405\n",
      "Epoch 10/100\n",
      "6/6 [==============================] - 0s 4ms/step - loss: 0.1476 - accuracy: 0.9464\n",
      "Epoch 11/100\n",
      "6/6 [==============================] - 0s 2ms/step - loss: 0.1487 - accuracy: 0.9405\n",
      "Epoch 12/100\n",
      "6/6 [==============================] - 0s 4ms/step - loss: 0.1126 - accuracy: 0.9405\n",
      "Epoch 13/100\n",
      "6/6 [==============================] - 0s 4ms/step - loss: 0.0789 - accuracy: 0.9702\n",
      "Epoch 14/100\n",
      "6/6 [==============================] - 0s 3ms/step - loss: 0.0758 - accuracy: 0.9762\n",
      "Epoch 15/100\n",
      "6/6 [==============================] - 0s 5ms/step - loss: 0.0529 - accuracy: 0.9702\n",
      "Epoch 16/100\n",
      "6/6 [==============================] - 0s 3ms/step - loss: 0.0849 - accuracy: 0.9524\n",
      "Epoch 17/100\n",
      "6/6 [==============================] - 0s 4ms/step - loss: 0.0532 - accuracy: 0.9821\n",
      "Epoch 18/100\n",
      "6/6 [==============================] - 0s 3ms/step - loss: 0.0235 - accuracy: 0.9940\n",
      "Epoch 19/100\n",
      "6/6 [==============================] - 0s 3ms/step - loss: 0.0385 - accuracy: 0.9940\n",
      "Epoch 20/100\n",
      "6/6 [==============================] - 0s 3ms/step - loss: 0.0160 - accuracy: 0.9940\n",
      "Epoch 21/100\n",
      "6/6 [==============================] - 0s 4ms/step - loss: 0.0104 - accuracy: 1.0000\n",
      "Epoch 22/100\n",
      "6/6 [==============================] - 0s 4ms/step - loss: 0.0250 - accuracy: 0.9940\n",
      "Epoch 23/100\n",
      "6/6 [==============================] - 0s 3ms/step - loss: 0.0206 - accuracy: 0.9940\n",
      "Epoch 24/100\n",
      "6/6 [==============================] - 0s 4ms/step - loss: 0.0594 - accuracy: 0.9940\n",
      "Epoch 25/100\n",
      "6/6 [==============================] - 0s 4ms/step - loss: 0.0625 - accuracy: 0.9881\n",
      "Epoch 26/100\n",
      "6/6 [==============================] - 0s 3ms/step - loss: 0.0338 - accuracy: 0.9881\n",
      "Epoch 27/100\n",
      "6/6 [==============================] - 0s 3ms/step - loss: 0.0122 - accuracy: 1.0000\n",
      "Epoch 28/100\n",
      "6/6 [==============================] - 0s 4ms/step - loss: 0.0232 - accuracy: 0.9881\n",
      "Epoch 29/100\n",
      "6/6 [==============================] - 0s 4ms/step - loss: 0.0259 - accuracy: 0.9821\n",
      "Epoch 30/100\n",
      "6/6 [==============================] - 0s 3ms/step - loss: 0.0292 - accuracy: 0.9881\n",
      "Epoch 31/100\n",
      "6/6 [==============================] - 0s 7ms/step - loss: 0.0487 - accuracy: 0.9821\n",
      "Epoch 32/100\n",
      "6/6 [==============================] - 0s 3ms/step - loss: 0.1242 - accuracy: 0.9583\n",
      "Epoch 33/100\n",
      "6/6 [==============================] - 0s 3ms/step - loss: 0.2836 - accuracy: 0.9286\n",
      "Epoch 34/100\n",
      "6/6 [==============================] - 0s 3ms/step - loss: 0.1846 - accuracy: 0.9524\n",
      "Epoch 35/100\n",
      "6/6 [==============================] - 0s 4ms/step - loss: 0.0835 - accuracy: 0.9702\n",
      "Epoch 36/100\n",
      "6/6 [==============================] - 0s 4ms/step - loss: 0.0702 - accuracy: 0.9643\n",
      "Epoch 37/100\n",
      "6/6 [==============================] - 0s 3ms/step - loss: 0.0194 - accuracy: 1.0000\n",
      "Epoch 38/100\n",
      "6/6 [==============================] - 0s 4ms/step - loss: 0.0363 - accuracy: 0.9881\n",
      "Epoch 39/100\n",
      "6/6 [==============================] - 0s 3ms/step - loss: 0.0145 - accuracy: 0.9940\n",
      "Epoch 40/100\n",
      "6/6 [==============================] - 0s 3ms/step - loss: 0.0098 - accuracy: 1.0000\n",
      "Epoch 41/100\n",
      "6/6 [==============================] - 0s 4ms/step - loss: 0.0104 - accuracy: 1.0000\n",
      "Epoch 42/100\n",
      "6/6 [==============================] - 0s 4ms/step - loss: 0.0061 - accuracy: 1.0000\n",
      "Epoch 43/100\n",
      "6/6 [==============================] - 0s 3ms/step - loss: 0.0044 - accuracy: 1.0000\n",
      "Epoch 44/100\n",
      "6/6 [==============================] - 0s 4ms/step - loss: 0.0048 - accuracy: 1.0000\n",
      "Epoch 45/100\n",
      "6/6 [==============================] - 0s 4ms/step - loss: 0.0166 - accuracy: 0.9881\n",
      "Epoch 46/100\n",
      "6/6 [==============================] - 0s 4ms/step - loss: 0.0179 - accuracy: 0.9940\n",
      "Epoch 47/100\n",
      "6/6 [==============================] - 0s 4ms/step - loss: 0.0430 - accuracy: 0.9821\n",
      "Epoch 48/100\n",
      "6/6 [==============================] - 0s 4ms/step - loss: 0.0031 - accuracy: 1.0000\n",
      "Epoch 49/100\n",
      "6/6 [==============================] - 0s 4ms/step - loss: 0.0128 - accuracy: 0.9881\n",
      "Epoch 50/100\n",
      "6/6 [==============================] - 0s 3ms/step - loss: 0.0217 - accuracy: 0.9881\n",
      "Epoch 51/100\n",
      "6/6 [==============================] - 0s 3ms/step - loss: 0.0126 - accuracy: 0.9940\n",
      "Epoch 52/100\n",
      "6/6 [==============================] - 0s 5ms/step - loss: 0.0065 - accuracy: 1.0000\n",
      "Epoch 53/100\n",
      "6/6 [==============================] - 0s 3ms/step - loss: 0.0145 - accuracy: 0.9940\n",
      "Epoch 54/100\n",
      "6/6 [==============================] - 0s 3ms/step - loss: 0.0084 - accuracy: 1.0000\n",
      "Epoch 55/100\n",
      "6/6 [==============================] - 0s 3ms/step - loss: 0.0060 - accuracy: 1.0000\n",
      "Epoch 56/100\n",
      "6/6 [==============================] - 0s 1ms/step - loss: 0.0049 - accuracy: 1.0000\n",
      "Epoch 57/100\n",
      "6/6 [==============================] - 0s 3ms/step - loss: 0.0033 - accuracy: 1.0000\n",
      "Epoch 58/100\n",
      "6/6 [==============================] - 0s 4ms/step - loss: 0.0027 - accuracy: 1.0000\n",
      "Epoch 59/100\n",
      "6/6 [==============================] - 0s 4ms/step - loss: 0.0025 - accuracy: 1.0000\n",
      "Epoch 60/100\n",
      "6/6 [==============================] - 0s 828us/step - loss: 0.0028 - accuracy: 1.0000\n",
      "Epoch 61/100\n",
      "6/6 [==============================] - 0s 3ms/step - loss: 0.0021 - accuracy: 1.0000\n",
      "Epoch 62/100\n",
      "6/6 [==============================] - 0s 3ms/step - loss: 0.0035 - accuracy: 1.0000\n",
      "Epoch 63/100\n",
      "6/6 [==============================] - 0s 3ms/step - loss: 0.0016 - accuracy: 1.0000\n",
      "Epoch 64/100\n",
      "6/6 [==============================] - 0s 3ms/step - loss: 0.0027 - accuracy: 1.0000\n",
      "Epoch 65/100\n",
      "6/6 [==============================] - 0s 1ms/step - loss: 0.0105 - accuracy: 0.9940\n",
      "Epoch 66/100\n",
      "6/6 [==============================] - 0s 3ms/step - loss: 0.0099 - accuracy: 0.9940\n",
      "Epoch 67/100\n",
      "6/6 [==============================] - 0s 3ms/step - loss: 0.0081 - accuracy: 0.9940\n",
      "Epoch 68/100\n",
      "6/6 [==============================] - 0s 3ms/step - loss: 0.0039 - accuracy: 1.0000\n",
      "Epoch 69/100\n",
      "6/6 [==============================] - 0s 3ms/step - loss: 0.0027 - accuracy: 1.0000\n",
      "Epoch 70/100\n",
      "6/6 [==============================] - 0s 1ms/step - loss: 0.0084 - accuracy: 0.9940\n",
      "Epoch 71/100\n",
      "6/6 [==============================] - 0s 3ms/step - loss: 0.0065 - accuracy: 1.0000\n",
      "Epoch 72/100\n",
      "6/6 [==============================] - 0s 3ms/step - loss: 0.0029 - accuracy: 1.0000\n",
      "Epoch 73/100\n",
      "6/6 [==============================] - 0s 3ms/step - loss: 0.0013 - accuracy: 1.0000\n",
      "Epoch 74/100\n",
      "6/6 [==============================] - 0s 3ms/step - loss: 0.0015 - accuracy: 1.0000\n",
      "Epoch 75/100\n",
      "6/6 [==============================] - 0s 1ms/step - loss: 0.0017 - accuracy: 1.0000\n",
      "Epoch 76/100\n",
      "6/6 [==============================] - 0s 3ms/step - loss: 0.0015 - accuracy: 1.0000\n",
      "Epoch 77/100\n",
      "6/6 [==============================] - 0s 3ms/step - loss: 0.0013 - accuracy: 1.0000\n",
      "Epoch 78/100\n",
      "6/6 [==============================] - 0s 4ms/step - loss: 0.0027 - accuracy: 1.0000\n",
      "Epoch 79/100\n",
      "6/6 [==============================] - 0s 3ms/step - loss: 0.0083 - accuracy: 0.9940\n",
      "Epoch 80/100\n",
      "6/6 [==============================] - 0s 3ms/step - loss: 0.2562 - accuracy: 0.9583\n",
      "Epoch 81/100\n",
      "6/6 [==============================] - 0s 3ms/step - loss: 0.2371 - accuracy: 0.9464\n",
      "Epoch 82/100\n",
      "6/6 [==============================] - 0s 3ms/step - loss: 0.0658 - accuracy: 0.9702\n",
      "Epoch 83/100\n",
      "6/6 [==============================] - 0s 3ms/step - loss: 0.1255 - accuracy: 0.9345\n",
      "Epoch 84/100\n",
      "6/6 [==============================] - 0s 1ms/step - loss: 0.0633 - accuracy: 0.9940\n",
      "Epoch 85/100\n",
      "6/6 [==============================] - 0s 3ms/step - loss: 0.0470 - accuracy: 0.9881\n",
      "Epoch 86/100\n",
      "6/6 [==============================] - 0s 3ms/step - loss: 0.1410 - accuracy: 0.9702\n",
      "Epoch 87/100\n",
      "6/6 [==============================] - 0s 3ms/step - loss: 0.2087 - accuracy: 0.9405\n",
      "Epoch 88/100\n",
      "6/6 [==============================] - 0s 3ms/step - loss: 0.0627 - accuracy: 0.9821\n",
      "Epoch 89/100\n",
      "6/6 [==============================] - 0s 3ms/step - loss: 0.2553 - accuracy: 0.9762\n",
      "Epoch 90/100\n",
      "6/6 [==============================] - 0s 297us/step - loss: 0.5058 - accuracy: 0.9821\n",
      "Epoch 91/100\n",
      "6/6 [==============================] - 0s 3ms/step - loss: 0.3834 - accuracy: 0.9524\n",
      "Epoch 92/100\n",
      "6/6 [==============================] - 0s 4ms/step - loss: 0.0188 - accuracy: 0.9940\n",
      "Epoch 93/100\n",
      "6/6 [==============================] - 0s 3ms/step - loss: 0.1205 - accuracy: 0.9643\n",
      "Epoch 94/100\n",
      "6/6 [==============================] - 0s 3ms/step - loss: 0.0499 - accuracy: 0.9762\n",
      "Epoch 95/100\n",
      "6/6 [==============================] - 0s 695us/step - loss: 0.0163 - accuracy: 0.9940\n",
      "Epoch 96/100\n",
      "6/6 [==============================] - 0s 3ms/step - loss: 0.2338 - accuracy: 0.9643\n",
      "Epoch 97/100\n",
      "6/6 [==============================] - 0s 3ms/step - loss: 0.0530 - accuracy: 0.9881\n",
      "Epoch 98/100\n",
      "6/6 [==============================] - 0s 3ms/step - loss: 0.0266 - accuracy: 0.9940\n",
      "Epoch 99/100\n",
      "6/6 [==============================] - 0s 3ms/step - loss: 0.0188 - accuracy: 0.9881\n",
      "Epoch 100/100\n",
      "6/6 [==============================] - 0s 3ms/step - loss: 0.0067 - accuracy: 1.0000\n"
     ]
    },
    {
     "data": {
      "text/plain": [
       "<keras.callbacks.History at 0x1d935aa7b20>"
      ]
     },
     "execution_count": 26,
     "metadata": {},
     "output_type": "execute_result"
    }
   ],
   "source": [
    "new_model.fit(x_train_scaled,y_train_scaled, epochs = 100)"
   ]
  },
  {
   "cell_type": "markdown",
   "metadata": {},
   "source": [
    "## // Evaluate Model & Checking for Overfitting and Underfitting\n",
    "\n",
    "1st parameter = input data\n",
    "2nd parameter = target data\n",
    "\n",
    "Returns list of scalars (if the model has multiple outputs and/or metrics) (in this case loss and accuracy)\n",
    "The `valueOf_loss` variable will contain the value of the loss function (in this case, `sparse_categorical_crossentropy`) on the testing data. The `valueOf_accuracy` variable will contain the accuracy of the model on the testing data.\n",
    "\n",
    "If accuracy is low => this could be due to Overfitting"
   ]
  },
  {
   "cell_type": "code",
   "execution_count": 27,
   "metadata": {},
   "outputs": [
    {
     "name": "stdout",
     "output_type": "stream",
     "text": [
      "3/3 [==============================] - 0s 9ms/step - loss: 0.3734 - accuracy: 0.8750\n",
      "Loss % = 37.341198325157166 Accuracy % = 87.5\n"
     ]
    }
   ],
   "source": [
    "valueOf_loss,valueOf_accuracy = new_model.evaluate(x_test_scaled,y_test_scaled)\n",
    "print(\"Loss % =\",valueOf_loss*100 , \"Accuracy % =\",valueOf_accuracy*100)"
   ]
  },
  {
   "cell_type": "markdown",
   "metadata": {},
   "source": [
    "## // Campare Actual Stars with Predicted Stars\n",
    "\n",
    "`model.predict` method is used to predict the class labels for the test dataset `normalized_x_test`. The predicted class probabilities are rounded to the nearest integer using the `numpy.round` function and are assigned to a new variable `z`"
   ]
  },
  {
   "cell_type": "code",
   "execution_count": 28,
   "metadata": {},
   "outputs": [],
   "source": [
    "# [1,0,0,0,0,0] => Brown Dwarf\n",
    "# [0,1,0,0,0,0] => Red Dwarf\n",
    "# [0,0,1,0,0,0] => White Dwarf\n",
    "# [0,0,0,1,0,0] => Main Sequence\n",
    "# [0,0,0,0,1,0] => Supergiant\n",
    "# [0,0,0,0,0,1] => Hypergiant\n",
    "\n",
    "arr = numpy.array([[1,0,0,0,0,0],[0,1,0,0,0,0],[0,0,1,0,0,0],[0,0,0,1,0,0],[0,0,0,0,1,0],[0,0,0,0,0,1]])"
   ]
  },
  {
   "cell_type": "code",
   "execution_count": 29,
   "metadata": {},
   "outputs": [
    {
     "name": "stdout",
     "output_type": "stream",
     "text": [
      "3/3 [==============================] - 0s 9ms/step\n",
      "_____________________________________________________\n",
      "    Prediction          Predicted-Class      Actual-Class \n",
      "[0. 0. 0. 0. 1. 0.]         :  4 :             [4.]\n",
      "[0. 0. 0. 0. 1. 0.]         :  4 :             [4.]\n",
      "[0. 0. 1. 0. 0. 0.]         :  2 :             [2.]\n",
      "[0. 0. 0. 0. 0. 1.]         :  5 :             [5.]\n",
      "[0. 0. 0. 1. 0. 0.]         :  3 :             [4.]\n",
      "[0. 1. 0. 0. 0. 0.]         :  1 :             [1.]\n",
      "[0. 0. 0. 0. 0. 1.]         :  5 :             [5.]\n",
      "[0. 1. 0. 0. 0. 0.]         :  1 :             [1.]\n",
      "[1. 0. 0. 0. 0. 0.]         :  0 :             [0.]\n",
      "[1. 0. 0. 0. 0. 0.]         :  0 :             [0.]\n",
      "[0. 1. 0. 0. 0. 0.]         :  1 :             [1.]\n",
      "[0. 0. 0. 0. 1. 0.]         :  4 :             [4.]\n",
      "[0. 0. 0. 0. 0. 1.]         :  5 :             [5.]\n",
      "[0. 1. 0. 0. 0. 0.]         :  1 :             [0.]\n",
      "[0. 0. 0. 1. 0. 0.]         :  3 :             [3.]\n",
      "[0. 0. 0. 0. 1. 0.]         :  4 :             [4.]\n",
      "[0. 0. 0. 0. 0. 1.]         :  5 :             [5.]\n",
      "[0. 1. 0. 0. 0. 0.]         :  1 :             [1.]\n",
      "[0. 1. 0. 0. 0. 0.]         :  1 :             [1.]\n",
      "[0. 1. 0. 0. 0. 0.]         :  1 :             [0.]\n",
      "[0. 1. 0. 0. 0. 0.]         :  1 :             [0.]\n",
      "[0. 1. 0. 0. 0. 0.]         :  1 :             [1.]\n",
      "[0. 0. 0. 1. 0. 0.]         :  3 :             [3.]\n",
      "[1. 0. 0. 0. 0. 0.]         :  0 :             [0.]\n",
      "[0. 1. 0. 0. 0. 0.]         :  1 :             [1.]\n",
      "[0. 0. 0. 0. 0. 1.]         :  5 :             [5.]\n",
      "[0. 0. 0. 1. 0. 0.]         :  3 :             [3.]\n",
      "[0. 0. 0. 1. 0. 0.]         :  3 :             [4.]\n",
      "[0. 0. 1. 0. 0. 0.]         :  2 :             [2.]\n",
      "[0. 0. 0. 0. 1. 0.]         :  4 :             [4.]\n",
      "[1. 0. 0. 0. 0. 0.]         :  0 :             [0.]\n",
      "[0. 0. 0. 0. 1. 0.]         :  4 :             [4.]\n",
      "[1. 0. 0. 0. 0. 0.]         :  0 :             [0.]\n",
      "[0. 0. 1. 0. 0. 0.]         :  2 :             [2.]\n",
      "[0. 0. 1. 0. 0. 0.]         :  2 :             [2.]\n",
      "[0. 1. 0. 0. 0. 0.]         :  1 :             [1.]\n",
      "[0. 0. 1. 0. 0. 0.]         :  2 :             [2.]\n",
      "[0. 0. 1. 0. 0. 0.]         :  2 :             [2.]\n",
      "[0. 0. 0. 1. 0. 0.]         :  3 :             [3.]\n",
      "[0. 1. 0. 0. 0. 0.]         :  1 :             [1.]\n",
      "[0. 0. 0. 0. 1. 0.]         :  4 :             [4.]\n",
      "[0. 1. 0. 0. 0. 0.]         :  1 :             [1.]\n",
      "[0. 0. 1. 0. 0. 0.]         :  2 :             [2.]\n",
      "[0. 1. 0. 0. 0. 0.]         :  1 :             [1.]\n",
      "[0. 1. 0. 0. 0. 0.]         :  1 :             [1.]\n",
      "[0. 0. 0. 1. 0. 0.]         :  3 :             [3.]\n",
      "[1. 0. 0. 0. 0. 0.]         :  0 :             [0.]\n",
      "[0. 0. 0. 1. 0. 0.]         :  3 :             [3.]\n",
      "[0. 0. 1. 0. 0. 0.]         :  2 :             [2.]\n",
      "[0. 0. 0. 0. 0. 1.]         :  5 :             [5.]\n",
      "[0. 0. 1. 0. 0. 0.]         :  2 :             [2.]\n",
      "[1. 0. 0. 0. 0. 0.]         :  0 :             [0.]\n",
      "[1. 0. 0. 0. 0. 0.]         :  0 :             [0.]\n",
      "[0. 0. 0. 1. 0. 0.]         :  3 :             [3.]\n",
      "[1. 0. 0. 0. 0. 0.]         :  0 :             [0.]\n",
      "[0. 0. 0. 0. 1. 0.]         :  4 :             [4.]\n",
      "[0. 0. 0. 0. 0. 1.]         :  5 :             [5.]\n",
      "[0. 1. 0. 0. 0. 0.]         :  1 :             [0.]\n",
      "[0. 0. 1. 0. 0. 0.]         :  2 :             [2.]\n",
      "[0. 0. 0. 0. 0. 1.]         :  5 :             [5.]\n",
      "[0. 0. 0. 0. 0. 1.]         :  5 :             [5.]\n",
      "[0. 1. 0. 0. 0. 0.]         :  1 :             [0.]\n",
      "[0. 0. 0. 1. 0. 0.]         :  3 :             [1.]\n",
      "[0. 0. 0. 0. 1. 0.]         :  4 :             [4.]\n",
      "[0. 0. 0. 0. 0. 1.]         :  5 :             [5.]\n",
      "[0. 0. 0. 0. 1. 0.]         :  4 :             [4.]\n",
      "[0. 0. 0. 0. 0. 1.]         :  5 :             [5.]\n",
      "[0. 0. 0. 0. 1. 0.]         :  4 :             [4.]\n",
      "[0. 0. 1. 0. 0. 0.]         :  2 :             [2.]\n",
      "[0. 1. 0. 0. 0. 0.]         :  1 :             [0.]\n",
      "[0. 1. 0. 0. 0. 0.]         :  1 :             [1.]\n",
      "[0. 0. 0. 0. 0. 1.]         :  5 :             [5.]\n",
      "_____________________________________________________\n",
      "Predicted NO. of Brown Dwarfs        = 9\n",
      "Predicted NO. of Red Dwarfs          = 19\n",
      "Predicted NO. of White Dwarfs        = 11\n",
      "Predicted NO. of Main Sequence stars = 10\n",
      "Predicted NO. of Supergiants         = 11\n",
      "Predicted NO. of Hypergiants         = 12\n",
      "Total tested stars                   = 72\n",
      "_____________________________________________________\n",
      "Actual NO. of Brown Dwarfs        = 15\n",
      "Actual NO. of Red Dwarfs          = 14\n",
      "Actual NO. of White Dwarfs        = 11\n",
      "Actual NO. of Main Sequence stars = 7\n",
      "Actual NO. of Supergiants         = 13\n",
      "Actual NO. of Hypergiants         = 12\n",
      "Total tested stars                = 72\n",
      "_____________________________________________________\n",
      "Accuracy = 87.5%\n"
     ]
    }
   ],
   "source": [
    "z = numpy.round(new_model.predict(x_test_scaled))\n",
    "\n",
    "print('_____________________________________________________')\n",
    "print(\"    Prediction          Predicted-Class      Actual-Class \")\n",
    "\n",
    "c1=c2=c3=c4=c5=c6=c7=c8=c9=c10=c11=c12=0  #counter variables\n",
    "\n",
    "for i in range(0,len(z)):\n",
    "    if numpy.array_equal(z[i],arr[0]):\n",
    "        print(\"{}         :  {} :             {}\".format(z[i],0,y_test_scaled[i]))\n",
    "        c1+=1\n",
    "    elif numpy.array_equal(z[i],arr[1]):\n",
    "        print(\"{}         :  {} :             {}\".format(z[i],1,y_test_scaled[i]))\n",
    "        c2+=1\n",
    "    elif numpy.array_equal(z[i],arr[2]):\n",
    "        print(\"{}         :  {} :             {}\".format(z[i],2,y_test_scaled[i]))\n",
    "        c3+=1  \n",
    "    elif numpy.array_equal(z[i],arr[3]):\n",
    "        print(\"{}         :  {} :             {}\".format(z[i],3,y_test_scaled[i]))\n",
    "        c4+=1 \n",
    "    elif numpy.array_equal(z[i],arr[4]):\n",
    "        print(\"{}         :  {} :             {}\".format(z[i],4,y_test_scaled[i]))\n",
    "        c5+=1\n",
    "    elif numpy.array_equal(z[i],arr[5]):\n",
    "        print(\"{}         :  {} :             {}\".format(z[i],5,y_test_scaled[i]))\n",
    "        c6+=1    \n",
    "\n",
    "print('_____________________________________________________')\n",
    "print(\"Predicted NO. of Brown Dwarfs        =\", c1)\n",
    "print(\"Predicted NO. of Red Dwarfs          =\", c2)\n",
    "print(\"Predicted NO. of White Dwarfs        =\", c3)\n",
    "print(\"Predicted NO. of Main Sequence stars =\", c4)\n",
    "print(\"Predicted NO. of Supergiants         =\", c5)\n",
    "print(\"Predicted NO. of Hypergiants         =\", c6)\n",
    "print(\"Total tested stars                   =\", len(z))\n",
    "\n",
    "m = y_test_scaled\n",
    "\n",
    "print('_____________________________________________________')\n",
    "\n",
    "for i in range(0,len(m)):\n",
    "    if m[i] == 0:\n",
    "        c7+=1\n",
    "    elif m[i] == 1 :\n",
    "        c8+=1 \n",
    "    elif m[i] == 2 :\n",
    "        c9+=1 \n",
    "    elif m[i] == 3 :\n",
    "        c10+=1 \n",
    "    elif m[i] == 4 :\n",
    "        c11+=1 \n",
    "    elif m[i] == 5 :\n",
    "        c12+=1     \n",
    "\n",
    "\n",
    "print(\"Actual NO. of Brown Dwarfs        =\", c7)\n",
    "print(\"Actual NO. of Red Dwarfs          =\", c8)\n",
    "print(\"Actual NO. of White Dwarfs        =\", c9)\n",
    "print(\"Actual NO. of Main Sequence stars =\", c10)\n",
    "print(\"Actual NO. of Supergiants         =\", c11)\n",
    "print(\"Actual NO. of Hypergiants         =\", c12)\n",
    "print(\"Total tested stars                =\", len(x_test_scaled))\n",
    "\n",
    "print('_____________________________________________________')\n",
    "print('Accuracy = {}%'.format((valueOf_accuracy*100)))"
   ]
  },
  {
   "cell_type": "code",
   "execution_count": 30,
   "metadata": {},
   "outputs": [],
   "source": [
    "######   End Of the Notebook . Thanks For Reading .   ########"
   ]
  }
 ],
 "metadata": {
  "kernelspec": {
   "display_name": "Python 3 (ipykernel)",
   "language": "python",
   "name": "python3"
  },
  "language_info": {
   "codemirror_mode": {
    "name": "ipython",
    "version": 3
   },
   "file_extension": ".py",
   "mimetype": "text/x-python",
   "name": "python",
   "nbconvert_exporter": "python",
   "pygments_lexer": "ipython3",
   "version": "3.9.13"
  }
 },
 "nbformat": 4,
 "nbformat_minor": 1
}
